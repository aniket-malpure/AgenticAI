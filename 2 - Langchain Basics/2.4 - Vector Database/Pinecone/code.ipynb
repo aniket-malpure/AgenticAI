{
 "cells": [
  {
   "cell_type": "code",
   "execution_count": 10,
   "id": "60b1bb0f",
   "metadata": {},
   "outputs": [
    {
     "data": {
      "text/plain": [
       "True"
      ]
     },
     "execution_count": 10,
     "metadata": {},
     "output_type": "execute_result"
    }
   ],
   "source": [
    "import os\n",
    "from dotenv import load_dotenv\n",
    "load_dotenv()"
   ]
  },
  {
   "cell_type": "code",
   "execution_count": 3,
   "id": "85255e22",
   "metadata": {},
   "outputs": [],
   "source": [
    "os.environ['HF_TOKEN'] = os.getenv('HF_TOKEN')"
   ]
  },
  {
   "cell_type": "code",
   "execution_count": 1,
   "id": "2d53368b",
   "metadata": {},
   "outputs": [
    {
     "name": "stderr",
     "output_type": "stream",
     "text": [
      "c:\\Study\\AgenticAI\\venv\\Lib\\site-packages\\tqdm\\auto.py:21: TqdmWarning: IProgress not found. Please update jupyter and ipywidgets. See https://ipywidgets.readthedocs.io/en/stable/user_install.html\n",
      "  from .autonotebook import tqdm as notebook_tqdm\n"
     ]
    }
   ],
   "source": [
    "from langchain_huggingface import HuggingFaceEmbeddings\n",
    "embeddings = HuggingFaceEmbeddings(model_name = 'all-MiniLM-L6-v2')"
   ]
  },
  {
   "cell_type": "code",
   "execution_count": 5,
   "id": "336fbf71",
   "metadata": {},
   "outputs": [],
   "source": [
    "from pinecone import Pinecone"
   ]
  },
  {
   "cell_type": "code",
   "execution_count": 11,
   "id": "73c62ffa",
   "metadata": {},
   "outputs": [],
   "source": [
    "import os\n",
    "pinecone_api_key = os.getenv(\"PINECONE_API_KEY\")"
   ]
  },
  {
   "cell_type": "code",
   "execution_count": 12,
   "id": "43b47935",
   "metadata": {},
   "outputs": [],
   "source": [
    "pc = Pinecone(api_key=pinecone_api_key)"
   ]
  },
  {
   "cell_type": "code",
   "execution_count": 13,
   "id": "42ebddd1",
   "metadata": {},
   "outputs": [],
   "source": [
    "# Serverless: Server will be managed by the cloud provider\n",
    "from pinecone import ServerlessSpec"
   ]
  },
  {
   "cell_type": "code",
   "execution_count": 14,
   "id": "b7928a60",
   "metadata": {},
   "outputs": [],
   "source": [
    "index_name = 'agenticai'"
   ]
  },
  {
   "cell_type": "code",
   "execution_count": null,
   "id": "058add76",
   "metadata": {},
   "outputs": [],
   "source": [
    "# Creating the index\n",
    "if not pc.has_index(index_name):\n",
    "        pc.create_index(\n",
    "        name = index_name,\n",
    "        dimension = 384,\n",
    "        metric = 'cosine',\n",
    "        spec = ServerlessSpec(cloud='aws', region='us-east-1')\n",
    "    )"
   ]
  },
  {
   "cell_type": "code",
   "execution_count": 16,
   "id": "97d1a1c7",
   "metadata": {},
   "outputs": [],
   "source": [
    "# Loading the index\n",
    "index = pc.Index(index_name)"
   ]
  },
  {
   "cell_type": "code",
   "execution_count": 17,
   "id": "36969187",
   "metadata": {},
   "outputs": [],
   "source": [
    "from langchain_pinecone import PineconeVectorStore"
   ]
  },
  {
   "cell_type": "code",
   "execution_count": 18,
   "id": "aad89d75",
   "metadata": {},
   "outputs": [],
   "source": [
    "vector_store = PineconeVectorStore(index=index, embedding = embeddings)"
   ]
  },
  {
   "cell_type": "code",
   "execution_count": 23,
   "id": "3937a990",
   "metadata": {},
   "outputs": [],
   "source": [
    "from uuid import uuid4\n",
    "from langchain_core.documents import Document\n",
    "\n",
    "document_1 = Document(\n",
    "    page_content=\"I had chocolate chip pancakes and scrambled eggs for breakfast this morning.\",\n",
    "    metadata={\"source\": \"tweet\"},\n",
    ")\n",
    "\n",
    "document_2 = Document(\n",
    "    page_content=\"The weather forecast for tomorrow is cloudy and overcast, with a high of 62 degrees.\",\n",
    "    metadata={\"source\": \"news\"},\n",
    ")\n",
    "\n",
    "document_3 = Document(\n",
    "    page_content=\"Building an exciting new project with LangChain - come check it out!\",\n",
    "    metadata={\"source\": \"tweet\"},\n",
    ")\n",
    "\n",
    "document_4 = Document(\n",
    "    page_content=\"Robbers broke into the city bank and stole $1 million in cash.\",\n",
    "    metadata={\"source\": \"news\"},\n",
    ")\n",
    "\n",
    "document_5 = Document(\n",
    "    page_content=\"Wow! That was an amazing movie. I can't wait to see it again.\",\n",
    "    metadata={\"source\": \"tweet\"},\n",
    ")\n",
    "\n",
    "document_6 = Document(\n",
    "    page_content=\"Is the new iPhone worth the price? Read this review to find out.\",\n",
    "    metadata={\"source\": \"website\"},\n",
    ")\n",
    "\n",
    "document_7 = Document(\n",
    "    page_content=\"The top 10 soccer players in the world right now.\",\n",
    "    metadata={\"source\": \"website\"},\n",
    ")\n",
    "\n",
    "document_8 = Document(\n",
    "    page_content=\"LangGraph is the best framework for building stateful, agentic applications!\",\n",
    "    metadata={\"source\": \"tweet\"},\n",
    ")\n",
    "\n",
    "document_9 = Document(\n",
    "    page_content=\"The stock market is down 500 points today due to fears of a recession.\",\n",
    "    metadata={\"source\": \"news\"},\n",
    ")\n",
    "\n",
    "document_10 = Document(\n",
    "    page_content=\"I have a bad feeling I am going to get deleted :(\",\n",
    "    metadata={\"source\": \"tweet\"},\n",
    ")"
   ]
  },
  {
   "cell_type": "code",
   "execution_count": 24,
   "id": "a9f97405",
   "metadata": {},
   "outputs": [],
   "source": [
    "documents = [\n",
    "    document_1,\n",
    "    document_2,\n",
    "    document_3,\n",
    "    document_4,\n",
    "    document_5,\n",
    "    document_6,\n",
    "    document_7,\n",
    "    document_8,\n",
    "    document_9,\n",
    "    document_10,\n",
    "]"
   ]
  },
  {
   "cell_type": "code",
   "execution_count": 25,
   "id": "5d642900",
   "metadata": {},
   "outputs": [
    {
     "data": {
      "text/plain": [
       "[Document(metadata={'source': 'tweet'}, page_content='I had chocolate chip pancakes and scrambled eggs for breakfast this morning.'),\n",
       " Document(metadata={'source': 'news'}, page_content='The weather forecast for tomorrow is cloudy and overcast, with a high of 62 degrees.'),\n",
       " Document(metadata={'source': 'tweet'}, page_content='Building an exciting new project with LangChain - come check it out!'),\n",
       " Document(metadata={'source': 'news'}, page_content='Robbers broke into the city bank and stole $1 million in cash.'),\n",
       " Document(metadata={'source': 'tweet'}, page_content=\"Wow! That was an amazing movie. I can't wait to see it again.\"),\n",
       " Document(metadata={'source': 'website'}, page_content='Is the new iPhone worth the price? Read this review to find out.'),\n",
       " Document(metadata={'source': 'website'}, page_content='The top 10 soccer players in the world right now.'),\n",
       " Document(metadata={'source': 'tweet'}, page_content='LangGraph is the best framework for building stateful, agentic applications!'),\n",
       " Document(metadata={'source': 'news'}, page_content='The stock market is down 500 points today due to fears of a recession.'),\n",
       " Document(metadata={'source': 'tweet'}, page_content='I have a bad feeling I am going to get deleted :(')]"
      ]
     },
     "execution_count": 25,
     "metadata": {},
     "output_type": "execute_result"
    }
   ],
   "source": [
    "documents"
   ]
  },
  {
   "cell_type": "code",
   "execution_count": 26,
   "id": "41cbbc16",
   "metadata": {},
   "outputs": [],
   "source": [
    "uuids = [str(uuid4()) for _ in range(len(documents))]"
   ]
  },
  {
   "cell_type": "code",
   "execution_count": 27,
   "id": "feacdf3d",
   "metadata": {},
   "outputs": [
    {
     "data": {
      "text/plain": [
       "['80bfdd64-4be4-4551-9bcc-3d672b3de0a5',\n",
       " '32c4702c-a865-44e6-bf11-01583e6efc49',\n",
       " 'b0af9bd7-4168-4f4c-b968-4a819086b98c',\n",
       " '088248bb-1a7f-4ed3-9f78-4fdda1e5067b',\n",
       " 'd5dc66df-3949-43d5-a466-b8f37c9ee84c',\n",
       " 'c38d76de-1a02-4e89-bd69-50e73f071973',\n",
       " 'faa75b81-eb62-4d14-946c-74ea7a3ab159',\n",
       " 'd9cf5505-7230-4c73-9c87-2f7ae2400dd9',\n",
       " '0eaf790c-f7f6-4ced-8fdd-67b3efdf3808',\n",
       " 'b61078fe-43d3-438b-a7a9-521e66cd6143']"
      ]
     },
     "execution_count": 27,
     "metadata": {},
     "output_type": "execute_result"
    }
   ],
   "source": [
    "uuids"
   ]
  },
  {
   "cell_type": "code",
   "execution_count": 28,
   "id": "3ac29105",
   "metadata": {},
   "outputs": [
    {
     "data": {
      "text/plain": [
       "['80bfdd64-4be4-4551-9bcc-3d672b3de0a5',\n",
       " '32c4702c-a865-44e6-bf11-01583e6efc49',\n",
       " 'b0af9bd7-4168-4f4c-b968-4a819086b98c',\n",
       " '088248bb-1a7f-4ed3-9f78-4fdda1e5067b',\n",
       " 'd5dc66df-3949-43d5-a466-b8f37c9ee84c',\n",
       " 'c38d76de-1a02-4e89-bd69-50e73f071973',\n",
       " 'faa75b81-eb62-4d14-946c-74ea7a3ab159',\n",
       " 'd9cf5505-7230-4c73-9c87-2f7ae2400dd9',\n",
       " '0eaf790c-f7f6-4ced-8fdd-67b3efdf3808',\n",
       " 'b61078fe-43d3-438b-a7a9-521e66cd6143']"
      ]
     },
     "execution_count": 28,
     "metadata": {},
     "output_type": "execute_result"
    }
   ],
   "source": [
    "vector_store.add_documents(documents = documents, ids = uuids)"
   ]
  },
  {
   "cell_type": "code",
   "execution_count": 29,
   "id": "c146046a",
   "metadata": {},
   "outputs": [],
   "source": [
    "results = vector_store.similarity_search('What does langchain provide to us?', k=3)"
   ]
  },
  {
   "cell_type": "code",
   "execution_count": 30,
   "id": "3c538c76",
   "metadata": {},
   "outputs": [
    {
     "data": {
      "text/plain": [
       "[Document(id='b0af9bd7-4168-4f4c-b968-4a819086b98c', metadata={'source': 'tweet'}, page_content='Building an exciting new project with LangChain - come check it out!'),\n",
       " Document(id='d9cf5505-7230-4c73-9c87-2f7ae2400dd9', metadata={'source': 'tweet'}, page_content='LangGraph is the best framework for building stateful, agentic applications!'),\n",
       " Document(id='c38d76de-1a02-4e89-bd69-50e73f071973', metadata={'source': 'website'}, page_content='Is the new iPhone worth the price? Read this review to find out.')]"
      ]
     },
     "execution_count": 30,
     "metadata": {},
     "output_type": "execute_result"
    }
   ],
   "source": [
    "results"
   ]
  },
  {
   "cell_type": "code",
   "execution_count": null,
   "id": "a1d1a2af",
   "metadata": {},
   "outputs": [],
   "source": [
    "retriever=vector_store.as_retriever(\n",
    "        search_type = 'similarity_score_threshold',\n",
    "        search_kwargs={\"k\": 3, \"score_threshold\": 0.5}\n",
    "    )"
   ]
  },
  {
   "cell_type": "code",
   "execution_count": 32,
   "id": "ee42953f",
   "metadata": {},
   "outputs": [
    {
     "data": {
      "text/plain": [
       "[Document(id='b0af9bd7-4168-4f4c-b968-4a819086b98c', metadata={'source': 'tweet'}, page_content='Building an exciting new project with LangChain - come check it out!'),\n",
       " Document(id='d9cf5505-7230-4c73-9c87-2f7ae2400dd9', metadata={'source': 'tweet'}, page_content='LangGraph is the best framework for building stateful, agentic applications!'),\n",
       " Document(id='b61078fe-43d3-438b-a7a9-521e66cd6143', metadata={'source': 'tweet'}, page_content='I have a bad feeling I am going to get deleted :(')]"
      ]
     },
     "execution_count": 32,
     "metadata": {},
     "output_type": "execute_result"
    }
   ],
   "source": [
    "retriever.invoke(\"LangChain provides abstractions to make working with LLMs easy\")"
   ]
  },
  {
   "cell_type": "code",
   "execution_count": null,
   "id": "0f7dfa75",
   "metadata": {},
   "outputs": [],
   "source": []
  }
 ],
 "metadata": {
  "kernelspec": {
   "display_name": "Python 3",
   "language": "python",
   "name": "python3"
  },
  "language_info": {
   "codemirror_mode": {
    "name": "ipython",
    "version": 3
   },
   "file_extension": ".py",
   "mimetype": "text/x-python",
   "name": "python",
   "nbconvert_exporter": "python",
   "pygments_lexer": "ipython3",
   "version": "3.13.0"
  }
 },
 "nbformat": 4,
 "nbformat_minor": 5
}
