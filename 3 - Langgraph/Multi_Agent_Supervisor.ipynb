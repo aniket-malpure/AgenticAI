{
 "cells": [
  {
   "cell_type": "code",
   "execution_count": 34,
   "id": "923d9ac4",
   "metadata": {},
   "outputs": [],
   "source": [
    "from dotenv import load_dotenv"
   ]
  },
  {
   "cell_type": "code",
   "execution_count": 35,
   "id": "b55d9091",
   "metadata": {},
   "outputs": [
    {
     "data": {
      "text/plain": [
       "True"
      ]
     },
     "execution_count": 35,
     "metadata": {},
     "output_type": "execute_result"
    }
   ],
   "source": [
    "load_dotenv()"
   ]
  },
  {
   "cell_type": "code",
   "execution_count": 36,
   "id": "a7b83247",
   "metadata": {},
   "outputs": [],
   "source": [
    "from langchain_groq import ChatGroq"
   ]
  },
  {
   "cell_type": "code",
   "execution_count": 37,
   "id": "2dcd083b",
   "metadata": {},
   "outputs": [],
   "source": [
    "llm=ChatGroq(model=\"deepseek-r1-distill-llama-70b\")"
   ]
  },
  {
   "cell_type": "code",
   "execution_count": 39,
   "id": "fd37d336",
   "metadata": {},
   "outputs": [
    {
     "name": "stdout",
     "output_type": "stream",
     "text": [
      "<think>\n",
      "\n",
      "</think>\n",
      "\n",
      "The capital of France is Paris.\n"
     ]
    }
   ],
   "source": [
    "print(llm.invoke(\"What is the capital of France?\").content)"
   ]
  },
  {
   "cell_type": "code",
   "execution_count": 40,
   "id": "357421b0",
   "metadata": {},
   "outputs": [
    {
     "name": "stdout",
     "output_type": "stream",
     "text": [
      "<think>\n",
      "Okay, so I need to figure out the capital of India and explain it in detail. Hmm, I remember that India is a big country with a rich history. I think the capital is Delhi, but I'm not entirely sure. Let me try to recall more details.\n",
      "\n",
      "I've heard that Delhi is a very old city, maybe even ancient. It's in the north part of India, right? I think it's near the Yamuna River. Wait, wasn't there another city that used to be the capital before? Oh, right, I think it was Calcutta, but that was a long time ago when the British were ruling India. So after independence, they moved the capital to Delhi. That makes sense because Delhi has a lot of historical significance.\n",
      "\n",
      "Now, about New Delhi. I remember that term being used a lot. Is New Delhi a part of Delhi? I think so. Maybe it's the area where the government buildings are. I've heard of the Rashtrapati Bhavan, which is the presidential palace, right? And there's the India Gate, which is a war memorial. So New Delhi is the administrative part, while Delhi is the larger city.\n",
      "\n",
      "I should check when New Delhi became the capital. I believe it was around the time of India's independence, so maybe 1947. But wait, I think the planning for New Delhi started before that, perhaps in the early 20th century when the British were still ruling. So maybe the construction began in 1911 and it was completed in 1931. That sounds familiar.\n",
      "\n",
      "I also recall that New Delhi was designed by British architects, like Edwin Lutyens. He must have been a prominent figure in designing the city's layout. The city is known for its wide avenues and monumental buildings, which reflects a blend of British and Indian architecture.\n",
      "\n",
      "What else is there? Oh, the Secretariat Building, which houses government offices. And the Parliament House, which is where the Indian legislature meets. These are all in New Delhi. Also, Connaught Place is a major business and commercial area there.\n",
      "\n",
      "I think the climate in Delhi is quite hot during summers and cold in winters. It's a landlocked city, so it doesn't have the moderating effect of the sea. That makes the summers really intense, maybe over 40 degrees Celsius sometimes. Winters can get pretty chilly, especially in December and January.\n",
      "\n",
      "Culturally, Delhi is a mix of old and new. There are historical sites like the Red Fort and Qutub Minar, which are from the Mughal and earlier periods. The food in Delhi is famous too, with popular dishes like butter chicken and various street foods. Chandni Chowk is a well-known market area in Old Delhi.\n",
      "\n",
      "Transportation-wise, Delhi has a metro system that's pretty efficient. It's connected by rail and air to other parts of the country. The Indira Gandhi International Airport is one of the busiest in the country.\n",
      "\n",
      "I also remember that Delhi has faced issues with air pollution, especially in recent years. The government has been trying to implement measures to reduce pollution levels, like the odd-even car rationing scheme.\n",
      "\n",
      "So, putting it all together, the capital of India is New Delhi, which is part of the larger Delhi region. It serves as the administrative and political center, with significant historical, cultural, and economic importance. The city was planned by the British, features a blend of architectural styles, and is home to many landmarks and institutions essential to India's governance and identity.\n",
      "</think>\n",
      "\n",
      "The capital of India is New Delhi, a city steeped in history and cultural richness. Located in the northern part of the country, it lies along the Yamuna River. New Delhi was declared the capital in 1911, with construction beginning in 1912 and completing in 1931. Designed by British architects like Edwin Lutyens, it features wide avenues and monumental buildings that blend British and Indian architectural styles.\n",
      "\n",
      "As the administrative center, New Delhi houses key government buildings such as the Rashtrapati Bhavan (presidential palace), the Secretariat, and the Parliament House. The city is also a hub for commerce, with areas like Connaught Place being major business centers.\n",
      "\n",
      "Culturally, New Delhi is a mix of old and new, with historical sites like the Red Fort and Qutub Minar, and vibrant markets like Chandni Chowk. The city's cuisine is renowned, featuring dishes like butter chicken and diverse street foods.\n",
      "\n",
      "Delhi experiences a varied climate, with hot summers and cold winters. It is well-connected by air, rail, and road, with the Indira Gandhi International Airport being a major hub. However, the city faces environmental challenges, particularly air pollution, prompting initiatives like the odd-even traffic scheme.\n",
      "\n",
      "In essence, New Delhi is not just the capital but a symbol of India's rich history, governance, and cultural diversity.\n"
     ]
    }
   ],
   "source": [
    "\n",
    "print(llm.invoke(\"What is the capital of india tell me in detail?\").content)"
   ]
  },
  {
   "cell_type": "code",
   "execution_count": 41,
   "id": "2e28e7fc",
   "metadata": {},
   "outputs": [],
   "source": [
    "import os\n",
    "from langchain_community.tools.tavily_search import TavilySearchResults\n",
    "TAVILY_API_KEY=os.getenv(\"TAVILY_API_KEY\")\n",
    "search_tool=TavilySearchResults(tavily_api_key=TAVILY_API_KEY)"
   ]
  },
  {
   "cell_type": "code",
   "execution_count": 42,
   "id": "1defe1fd",
   "metadata": {},
   "outputs": [
    {
     "data": {
      "text/plain": [
       "[{'title': 'What is the Capital of France? - Mappr',\n",
       "  'url': 'https://www.mappr.co/capital-cities/france/',\n",
       "  'content': 'mappr logo\\nmappr logo\\n\\nHome » Capital Cities » What is the Capital of France?\\n\\n# What is the Capital of France?\\n\\nParis is the capital of France. Also known as the “City of Light,” is not only the capital but also the most populous city of France. Paris is renowned globally for its art, fashion, gastronomy, and culture.\\n\\nA map showing France in yellow with surrounding countries in white, major cities marked, and Paris highlighted with a black dot. [...] However, Paris only became the official capital of France during the reign of Clovis I, in the late 5th and early 6th century. Before Clovis, the Merovingian kings did not rule from a fixed capital, but Clovis established his court in Paris, effectively making it the capital. Since then, with some interruptions, Paris has remained the capital of France. [...] The Palace of Versailles, a royal residence in the Île-de-France, stands as a symbol of the unmitigated monarchy of the Ancien Régime. Its origins trace back to a hunting lodge established by Louis XIII, later transformed and expanded by his son Louis XIV, resulting in the relocation of France’s court and government to Versailles in 1682.',\n",
       "  'score': 0.9401831},\n",
       " {'title': 'List of capitals of France - Wikipedia',\n",
       "  'url': 'https://en.wikipedia.org/wiki/List_of_capitals_of_France',\n",
       "  'content': 'This is a chronological list of capitals of France. The capital of France has been Paris since its liberation in 1944.\\n\\n## Chronology\\n\\n[edit] [...] - Tours (10–13 June 1940), the city served as the temporary capital of France during World War II after the government fled Paris due to the German advance.\\n- Bordeaux (June 1940), the government was relocated from Paris to Tours then Bordeaux very briefly during World War II, when it became apparent that Paris would soon fall into German hands. [...] - Paris (1789–1871), on 5 and 6 October 1789, a throng from Paris invaded the castle and forced the royal family to move back to Paris. The National Constituent Assembly \"National Constituent Assembly (France)\") followed the King to Paris soon afterward; Versailles lost its role of capital city.',\n",
       "  'score': 0.8993429},\n",
       " {'title': 'Paris facts: the capital of France in history',\n",
       "  'url': 'https://home.adelphi.edu/~ca19535/page%204.html',\n",
       "  'content': 'page 4\\n\\n===============\\n\\nHomeSpainSydneySan FranciscoParisLas VegasMaui\\n\\n Paris, France\\n\\nImage 1\\n\\nParis facts: Paris, the capital of France\\n---------------------------------------------\\n\\nParis is the capital of France, the largest country of Europe with 550 000 km2 (65 millions inhabitants).\\n\\nParis has 2.234 million inhabitants end 2011. She is the core of Ile de France region (12 million people). [...] Before Paris, the capital of France was Lyon (under the Romans). Paris first became the capital of France in 508 under King Clovis. After centuries with no unique capital of France, Paris retrieved its status of capital of France under King Philippe Auguste, who reigned between 1180 and 1223. You can see remains of the Philippe August Paris walls in the passageway between the Louvre parking and Louvre Museum [...] Paris remained the capital of France until today, with one four year interruption. During German occupation (WW2 , 1940-1944), the capital of France was Vichy.\\n\\ngo to top\\n\\nReference:',\n",
       "  'score': 0.89166987},\n",
       " {'title': 'Paris - Wikipedia',\n",
       "  'url': 'https://en.wikipedia.org/wiki/Paris',\n",
       "  'content': 'As the capital of France, Paris is the seat of France\\'s national government. For the executive, the two chief officers each have their own official residences, which also serve as their offices. The President of the French Republic resides at the Élysée Palace.( The Prime Minister\\'s seat is at the Hôtel Matignon.( Government ministries are located in various parts of the city, many near the Hôtel Matignon.( [...] Appearance\\n\\nmove to sidebar hide\\n\\nCoordinates: 48°51′24″N 2°21′8″E / 48.85667°N 2.35222°E / 48.85667; 2.35222_region:FR-75C)\\n\\nImage 4: This is a good article. Click here for more information.\\n\\nImage 5: Page semi-protected\\n\\nFrom Wikipedia, the free encyclopedia\\n\\nCapital and largest city of France\\n\\nThis article is about the capital city of France. For other uses, see Paris (disambiguation) \"Paris (disambiguation)\"). [...] Paris (French pronunciation:( \"Help:IPA/French\")ⓘ) is the capital and largest city of France. With an estimated population of 2,048,472 residents in January 2025( in an area of more than 105 km 2 (41 sq mi),( Paris is the fourth-most populous city in the European Union and the 30th most densely populated city in the world in 2022.( Since the 17th century, Paris has been one of the world\\'s major centres of finance, diplomacy, commerce, culture, fashion, and gastronomy. Because of its leading',\n",
       "  'score': 0.8815438},\n",
       " {'title': 'What is the Capital of France? - WorldAtlas',\n",
       "  'url': 'https://www.worldatlas.com/articles/what-is-the-capital-of-france.html',\n",
       "  'content': 'Paris is the capital city of France. The city has an approximate area of 41 square miles with a population of 2,206,488 people as of 2018. Contrary to popular belief, the name of the city did not come from the Paris in Greek myths. Instead, the name Paris is derived from the city’s initial inhabitants who were part of the Celtic Parisii tribe. Sometimes, the city is called the City of Light for two reasons; it was among the first cities to adopt gas for lighting the streets and its role during [...] What is the Capital of France? - WorldAtlas\\n\\n# What is the Capital of France?\\n\\nTourism has always been a major source of income for Paris. \\n\\nTourism has always been a major source of income for Paris. [...] As the capital city of France, the city plays host to the national government of France. Even the official residence of the president is in the city at the Élysée Palace while the Prime Minister is housed at the Hôtel Matignon. The Senate or the upper house meets at the Palais du Luxembourg while the Palais Bourbon is the meeting point for the Assemblée Nationale. The second highest public official after the President of France, the President of the Senate, stays at the Petit Luxembourg.',\n",
       "  'score': 0.87807417}]"
      ]
     },
     "execution_count": 42,
     "metadata": {},
     "output_type": "execute_result"
    }
   ],
   "source": [
    "search_tool.invoke(\"What is the capital of France?\")"
   ]
  },
  {
   "cell_type": "code",
   "execution_count": 43,
   "id": "825cd47f",
   "metadata": {},
   "outputs": [],
   "source": [
    "from langchain_experimental.utilities import PythonREPL\n",
    "repl=PythonREPL()\n",
    "from typing import Annotated\n",
    "from langchain_core.tools import tool"
   ]
  },
  {
   "cell_type": "code",
   "execution_count": 44,
   "id": "fc58b102",
   "metadata": {},
   "outputs": [],
   "source": [
    "@tool\n",
    "def python_repl_tool(code: Annotated[str, \"The python code to execute to generate your chart.\"]):\n",
    "    \"\"\"Use this to execute python code and do math. If you want to see the output of a value,\n",
    "    you should print it out with 'print(...)'. This is visible to the user.\"\"\"\n",
    "    \n",
    "    try:\n",
    "        result = repl.run(code)\n",
    "    except BaseException as e:\n",
    "        return f\"Failed to execute. Error: {repr(e)}\"\n",
    "    \n",
    "    result_str = f\"Successfully executed:\\n\\'\\'\\'python\\n{code}\\n\\'\\'\\'\\nStdout: {result}\"\n",
    "    return result_str"
   ]
  },
  {
   "cell_type": "code",
   "execution_count": 45,
   "id": "15efc392",
   "metadata": {},
   "outputs": [
    {
     "data": {
      "text/plain": [
       "\"Successfully executed:\\n'''python\\nx=10\\ny=x+10\\nprint(y)\\n'''\\nStdout: 20\\n\""
      ]
     },
     "execution_count": 45,
     "metadata": {},
     "output_type": "execute_result"
    }
   ],
   "source": [
    "python_repl_tool.invoke(\"x=10\\ny=x+10\\nprint(y)\")"
   ]
  },
  {
   "cell_type": "markdown",
   "id": "3ecd3a6d",
   "metadata": {},
   "source": [
    "### WE HAVE TWO SUB AGENT\n",
    "1. RESEARCHER- internet\n",
    "2. CODER- executing the code"
   ]
  },
  {
   "cell_type": "code",
   "execution_count": 46,
   "id": "9b9a5856",
   "metadata": {},
   "outputs": [],
   "source": [
    "members=[\"researcher\",\"coder\"]"
   ]
  },
  {
   "cell_type": "code",
   "execution_count": 47,
   "id": "1a5f07d7",
   "metadata": {},
   "outputs": [],
   "source": [
    "options = members+[\"FINISH\"]"
   ]
  },
  {
   "cell_type": "code",
   "execution_count": 48,
   "id": "9c882d3c",
   "metadata": {},
   "outputs": [
    {
     "data": {
      "text/plain": [
       "['researcher', 'coder', 'FINISH']"
      ]
     },
     "execution_count": 48,
     "metadata": {},
     "output_type": "execute_result"
    }
   ],
   "source": [
    "options"
   ]
  },
  {
   "cell_type": "code",
   "execution_count": 49,
   "id": "f42be98a",
   "metadata": {},
   "outputs": [],
   "source": [
    "from typing import Literal\n",
    "from typing_extensions import TypedDict"
   ]
  },
  {
   "cell_type": "code",
   "execution_count": 50,
   "id": "25c9a370",
   "metadata": {},
   "outputs": [],
   "source": [
    "class Router(TypedDict):\n",
    "    next: Literal['researcher', 'coder', 'FINISH']"
   ]
  },
  {
   "cell_type": "code",
   "execution_count": 51,
   "id": "c6018105",
   "metadata": {},
   "outputs": [],
   "source": [
    "from langgraph.graph import MessagesState,StateGraph,START, END"
   ]
  },
  {
   "cell_type": "code",
   "execution_count": 52,
   "id": "50a7b2da",
   "metadata": {},
   "outputs": [],
   "source": [
    "class State(MessagesState):\n",
    "    next:str"
   ]
  },
  {
   "cell_type": "markdown",
   "id": "62031845",
   "metadata": {},
   "source": [
    "This is how the stage will look like\n",
    "\n",
    "state={\"messages\": [\"hi\"], \"next\": \"research_agent\"}"
   ]
  },
  {
   "cell_type": "code",
   "execution_count": 53,
   "id": "a6ddc397",
   "metadata": {},
   "outputs": [],
   "source": [
    "system_prompt = f\"\"\"\"\n",
    "You are a supervisor, tasked with managing a conversation between the following workers: {members}. \n",
    "Given the following user request, respond with the worker to act next. \n",
    "Each worker will perform a task and respond with their results and status. \n",
    "When finished, respond with FINISH.\n",
    "\"\"\""
   ]
  },
  {
   "cell_type": "code",
   "execution_count": 66,
   "id": "1577025a",
   "metadata": {},
   "outputs": [],
   "source": [
    "system_prompt = f\"\"\"\n",
    "You are a supervisor managing a task delegation system with the following workers: {members}.\n",
    "\n",
    "Your job is to decide which worker should act next based on the user’s input.\n",
    "\n",
    "Guidelines:\n",
    "- Carefully read the user’s message.\n",
    "- If the message clearly requires a specific action (e.g., search, compute, rewrite), assign it to the appropriate worker.\n",
    "- If the message is general, conversational, or does **not** require any specific action, immediately respond with `FINISH`.\n",
    "- Do **not** invent tasks or assign actions unless the message clearly demands it.\n",
    "\n",
    "Each worker will return results after completing their task.\n",
    "Once all necessary tasks are completed, end the flow by responding with `FINISH`.\n",
    "\n",
    "Be strict — if the message is casual, rhetorical, or lacks a clear task, reply with `FINISH`.\n",
    "\"\"\""
   ]
  },
  {
   "cell_type": "code",
   "execution_count": 67,
   "id": "a55fe38d",
   "metadata": {},
   "outputs": [],
   "source": [
    "from langgraph.types import Command\n",
    "from langgraph.prebuilt import create_react_agent\n",
    "from langchain_core.messages import AIMessage, HumanMessage"
   ]
  },
  {
   "cell_type": "code",
   "execution_count": 68,
   "id": "5c066cd1",
   "metadata": {},
   "outputs": [],
   "source": [
    "def supervisor_agent(state:State)->Command[Literal['researcher', 'coder', '__end__']]:\n",
    "    \n",
    "    messages = [{\"role\": \"system\", \"content\": system_prompt},] + state[\"messages\"]\n",
    "    \n",
    "    llm_with_structure_output=llm.with_structured_output(Router)\n",
    "    \n",
    "    response=llm_with_structure_output.invoke(messages)\n",
    "    \n",
    "    #this is my response {'next': 'researcher'}\n",
    "    \n",
    "    #this is my next worker agent\n",
    "    goto=response[\"next\"]\n",
    "    \n",
    "    print(\"**********BELOW IS MY GOTO***************\")\n",
    "    \n",
    "    print(goto)\n",
    "    \n",
    "    if goto == \"FINISH\":\n",
    "        goto=END\n",
    "    \n",
    "    # class State(MessagesState):\n",
    "    #   next:str\n",
    "    # output of the state: state={\"messages\": [\"hi\"], \"next\": \"researcher\"}\n",
    "    \n",
    "    return Command(goto=goto, update={\"next\":goto})"
   ]
  },
  {
   "cell_type": "code",
   "execution_count": 69,
   "id": "00463aa0",
   "metadata": {},
   "outputs": [],
   "source": [
    "def research_agent(state: State) -> Command[Literal[\"supervisor\"]]:\n",
    "    \n",
    "    research_agent = create_react_agent(llm, tools=[search_tool], prompt=\"You are a researcher. DO NOT do any math.\")\n",
    "    \n",
    "    result=research_agent.invoke(state)\n",
    "    \n",
    "    return Command(\n",
    "        update={\n",
    "            \"messages\": [\n",
    "                HumanMessage(content=result[\"messages\"][-1].content, name=\"researcher\")\n",
    "            ]\n",
    "        },\n",
    "        goto=\"supervisor\",\n",
    "    )"
   ]
  },
  {
   "cell_type": "code",
   "execution_count": 70,
   "id": "2420587a",
   "metadata": {},
   "outputs": [],
   "source": [
    "def coder_agent(state:State)->Command[Literal['supervisor']]:\n",
    "    code_agent=create_react_agent(llm,tools=[python_repl_tool], prompt=\"You are a coder. DO NOT do any research.\")\n",
    "    result=code_agent.invoke(state)\n",
    "    \n",
    "    return Command(\n",
    "        update={\n",
    "            \"messages\": [\n",
    "                HumanMessage(content=result[\"messages\"][-1].content, name=\"coder\")\n",
    "            ]\n",
    "        },\n",
    "        goto=\"supervisor\",\n",
    "    )"
   ]
  },
  {
   "cell_type": "markdown",
   "id": "9dad4f3b",
   "metadata": {},
   "source": [
    "### Orchestration"
   ]
  },
  {
   "cell_type": "code",
   "execution_count": 71,
   "id": "58671256",
   "metadata": {},
   "outputs": [],
   "source": [
    "graph=StateGraph(State)"
   ]
  },
  {
   "cell_type": "code",
   "execution_count": 72,
   "id": "5f7fbe56",
   "metadata": {},
   "outputs": [
    {
     "data": {
      "text/plain": [
       "<langgraph.graph.state.StateGraph at 0x2be1a6ec950>"
      ]
     },
     "execution_count": 72,
     "metadata": {},
     "output_type": "execute_result"
    }
   ],
   "source": [
    "graph.add_node(\"supervisor\", supervisor_agent)"
   ]
  },
  {
   "cell_type": "code",
   "execution_count": 73,
   "id": "3dc24863",
   "metadata": {},
   "outputs": [
    {
     "data": {
      "text/plain": [
       "<langgraph.graph.state.StateGraph at 0x2be1a6ec950>"
      ]
     },
     "execution_count": 73,
     "metadata": {},
     "output_type": "execute_result"
    }
   ],
   "source": [
    "graph.add_node(\"researcher\", research_agent)"
   ]
  },
  {
   "cell_type": "code",
   "execution_count": 74,
   "id": "c18a994e",
   "metadata": {},
   "outputs": [
    {
     "data": {
      "text/plain": [
       "<langgraph.graph.state.StateGraph at 0x2be1a6ec950>"
      ]
     },
     "execution_count": 74,
     "metadata": {},
     "output_type": "execute_result"
    }
   ],
   "source": [
    "graph.add_node(\"coder\", coder_agent)"
   ]
  },
  {
   "cell_type": "code",
   "execution_count": 75,
   "id": "6d1f2e0a",
   "metadata": {},
   "outputs": [
    {
     "data": {
      "text/plain": [
       "<langgraph.graph.state.StateGraph at 0x2be1a6ec950>"
      ]
     },
     "execution_count": 75,
     "metadata": {},
     "output_type": "execute_result"
    }
   ],
   "source": [
    "graph.add_edge(START, \"supervisor\")"
   ]
  },
  {
   "cell_type": "code",
   "execution_count": 76,
   "id": "8da11181",
   "metadata": {},
   "outputs": [],
   "source": [
    "app=graph.compile()"
   ]
  },
  {
   "cell_type": "code",
   "execution_count": 77,
   "id": "30e40ffd",
   "metadata": {},
   "outputs": [
    {
     "data": {
      "image/png": "[encoded data removed]",
      "text/plain": [
       "<IPython.core.display.Image object>"
      ]
     },
     "metadata": {},
     "output_type": "display_data"
    }
   ],
   "source": [
    "from IPython.display import display,Image\n",
    "display(Image(app.get_graph().draw_mermaid_png()))"
   ]
  },
  {
   "cell_type": "code",
   "execution_count": 79,
   "id": "543135f2",
   "metadata": {},
   "outputs": [
    {
     "name": "stdout",
     "output_type": "stream",
     "text": [
      "**********BELOW IS MY GOTO***************\n",
      "coder\n",
      "((), {'supervisor': {'next': 'coder'}})\n",
      "**********BELOW IS MY STATE***************\n",
      "(('coder:a9b58fdc-d511-bed3-2656-5b6fb243b09c',), {'agent': {'messages': [AIMessage(content='', additional_kwargs={'tool_calls': [{'id': 'n07fsg3cp', 'function': {'arguments': '{\"code\":\"def square(number):\\\\n    return number * number\\\\nprint(square(5))\"}', 'name': 'python_repl_tool'}, 'type': 'function'}]}, response_metadata={'token_usage': {'completion_tokens': 342, 'prompt_tokens': 190, 'total_tokens': 532, 'completion_time': 1.439867389, 'prompt_time': 0.011742525, 'queue_time': 0.202706434, 'total_time': 1.451609914}, 'model_name': 'deepseek-r1-distill-llama-70b', 'system_fingerprint': 'fp_1bbe7845ec', 'finish_reason': 'tool_calls', 'logprobs': None}, id='run--7224028d-0a13-46b5-81ad-deb1f046919d-0', tool_calls=[{'name': 'python_repl_tool', 'args': {'code': 'def square(number):\\n    return number * number\\nprint(square(5))'}, 'id': 'n07fsg3cp', 'type': 'tool_call'}], usage_metadata={'input_tokens': 190, 'output_tokens': 342, 'total_tokens': 532})]}})\n",
      "**********BELOW IS MY STATE***************\n",
      "(('coder:a9b58fdc-d511-bed3-2656-5b6fb243b09c',), {'tools': {'messages': [ToolMessage(content=\"Successfully executed:\\n'''python\\ndef square(number):\\n    return number * number\\nprint(square(5))\\n'''\\nStdout: 25\\n\", name='python_repl_tool', id='ab770cd4-4767-455e-9f9b-78a3b2e0be42', tool_call_id='n07fsg3cp')]}})\n",
      "**********BELOW IS MY STATE***************\n",
      "(('coder:a9b58fdc-d511-bed3-2656-5b6fb243b09c',), {'agent': {'messages': [AIMessage(content=\"To generate the square of a given number, we can create a function that takes a number as input and returns the square of that number. Here's how you can do it:\\n\\n```python\\ndef square(number):\\n    return number * number\\n\\nprint(square(5))\\n```\\n\\nWhen you run this code with the input `5`, it will output `25`, which is the square of 5.\", additional_kwargs={}, response_metadata={'token_usage': {'completion_tokens': 330, 'prompt_tokens': 284, 'total_tokens': 614, 'completion_time': 1.2, 'prompt_time': 0.018130589, 'queue_time': 0.202314653, 'total_time': 1.218130589}, 'model_name': 'deepseek-r1-distill-llama-70b', 'system_fingerprint': 'fp_1bbe7845ec', 'finish_reason': 'stop', 'logprobs': None}, id='run--77e40be5-b1b0-401d-8f9e-e886365bba2f-0', usage_metadata={'input_tokens': 284, 'output_tokens': 330, 'total_tokens': 614})]}})\n",
      "**********BELOW IS MY STATE***************\n",
      "((), {'coder': {'messages': [HumanMessage(content=\"To generate the square of a given number, we can create a function that takes a number as input and returns the square of that number. Here's how you can do it:\\n\\n```python\\ndef square(number):\\n    return number * number\\n\\nprint(square(5))\\n```\\n\\nWhen you run this code with the input `5`, it will output `25`, which is the square of 5.\", additional_kwargs={}, response_metadata={}, name='coder')]}})\n",
      "**********BELOW IS MY STATE***************\n",
      "**********BELOW IS MY GOTO***************\n",
      "coder\n",
      "((), {'supervisor': {'next': 'coder'}})\n",
      "**********BELOW IS MY STATE***************\n",
      "(('coder:1370da06-2bc6-c6b7-6c13-c46ca148353e',), {'agent': {'messages': [AIMessage(content='', additional_kwargs={'tool_calls': [{'id': 'c0qnrb5h5', 'function': {'arguments': '{\"code\":\"def square(number):\\\\n    return number * number\\\\nprint(square(5))\"}', 'name': 'python_repl_tool'}, 'type': 'function'}]}, response_metadata={'token_usage': {'completion_tokens': 261, 'prompt_tokens': 272, 'total_tokens': 533, 'completion_time': 1.164366477, 'prompt_time': 0.017765965, 'queue_time': 0.202377007, 'total_time': 1.182132442}, 'model_name': 'deepseek-r1-distill-llama-70b', 'system_fingerprint': 'fp_1bbe7845ec', 'finish_reason': 'tool_calls', 'logprobs': None}, id='run--b540daa9-1959-42b6-bc90-a69a4ea570d3-0', tool_calls=[{'name': 'python_repl_tool', 'args': {'code': 'def square(number):\\n    return number * number\\nprint(square(5))'}, 'id': 'c0qnrb5h5', 'type': 'tool_call'}], usage_metadata={'input_tokens': 272, 'output_tokens': 261, 'total_tokens': 533})]}})\n",
      "**********BELOW IS MY STATE***************\n",
      "(('coder:1370da06-2bc6-c6b7-6c13-c46ca148353e',), {'tools': {'messages': [ToolMessage(content=\"Successfully executed:\\n'''python\\ndef square(number):\\n    return number * number\\nprint(square(5))\\n'''\\nStdout: 25\\n\", name='python_repl_tool', id='b3b17fa0-d520-4f2e-bdc9-35cc9d8cbe11', tool_call_id='c0qnrb5h5')]}})\n",
      "**********BELOW IS MY STATE***************\n",
      "(('coder:1370da06-2bc6-c6b7-6c13-c46ca148353e',), {'agent': {'messages': [AIMessage(content='', additional_kwargs={'tool_calls': [{'id': 'szrwa1e8t', 'function': {'arguments': '{\"code\":\"def square(number):\\\\n    return number ** 2\\\\nprint(square(5))\"}', 'name': 'python_repl_tool'}, 'type': 'function'}]}, response_metadata={'token_usage': {'completion_tokens': 475, 'prompt_tokens': 367, 'total_tokens': 842, 'completion_time': 2.530503163, 'prompt_time': 0.033367731, 'queue_time': 0.20235054200000002, 'total_time': 2.563870894}, 'model_name': 'deepseek-r1-distill-llama-70b', 'system_fingerprint': 'fp_1bbe7845ec', 'finish_reason': 'tool_calls', 'logprobs': None}, id='run--a60a0bc1-906b-4ed0-8b0a-ba9232d8d991-0', tool_calls=[{'name': 'python_repl_tool', 'args': {'code': 'def square(number):\\n    return number ** 2\\nprint(square(5))'}, 'id': 'szrwa1e8t', 'type': 'tool_call'}], usage_metadata={'input_tokens': 367, 'output_tokens': 475, 'total_tokens': 842})]}})\n",
      "**********BELOW IS MY STATE***************\n",
      "(('coder:1370da06-2bc6-c6b7-6c13-c46ca148353e',), {'tools': {'messages': [ToolMessage(content=\"Successfully executed:\\n'''python\\ndef square(number):\\n    return number ** 2\\nprint(square(5))\\n'''\\nStdout: 25\\n\", name='python_repl_tool', id='d56d7632-fb4e-4b2a-9cc5-bab6fb62935f', tool_call_id='szrwa1e8t')]}})\n",
      "**********BELOW IS MY STATE***************\n",
      "(('coder:1370da06-2bc6-c6b7-6c13-c46ca148353e',), {'agent': {'messages': [AIMessage(content='Great job! Your code correctly calculates the square of a number. Both versions of the code work perfectly:\\n\\n1. Using `number * number`\\n2. Using `number ** 2`\\n\\nBoth will return `25` for an input of `5`. Keep up the good work! Let me know if you need further assistance. 😊', additional_kwargs={}, response_metadata={'token_usage': {'completion_tokens': 202, 'prompt_tokens': 464, 'total_tokens': 666, 'completion_time': 1.047627684, 'prompt_time': 0.040936308, 'queue_time': 0.202796972, 'total_time': 1.088563992}, 'model_name': 'deepseek-r1-distill-llama-70b', 'system_fingerprint': 'fp_1bbe7845ec', 'finish_reason': 'stop', 'logprobs': None}, id='run--2b3a75ea-829e-451d-87c4-ec94e56e8ea5-0', usage_metadata={'input_tokens': 464, 'output_tokens': 202, 'total_tokens': 666})]}})\n",
      "**********BELOW IS MY STATE***************\n",
      "((), {'coder': {'messages': [HumanMessage(content='Great job! Your code correctly calculates the square of a number. Both versions of the code work perfectly:\\n\\n1. Using `number * number`\\n2. Using `number ** 2`\\n\\nBoth will return `25` for an input of `5`. Keep up the good work! Let me know if you need further assistance. 😊', additional_kwargs={}, response_metadata={}, name='coder')]}})\n",
      "**********BELOW IS MY STATE***************\n",
      "**********BELOW IS MY GOTO***************\n",
      "FINISH\n",
      "((), {'supervisor': {'next': '__end__'}})\n",
      "**********BELOW IS MY STATE***************\n"
     ]
    }
   ],
   "source": [
    "for s in app.stream({\"messages\": [(\"user\", \"Write a code to generate square of a given number.\")]}, subgraphs=True):\n",
    "    print(s)\n",
    "    print(\"**********BELOW IS MY STATE***************\")"
   ]
  },
  {
   "cell_type": "code",
   "execution_count": null,
   "id": "991d11ba",
   "metadata": {},
   "outputs": [],
   "source": []
  },
  {
   "cell_type": "code",
   "execution_count": null,
   "id": "428a4845",
   "metadata": {},
   "outputs": [],
   "source": []
  }
 ],
 "metadata": {
  "kernelspec": {
   "display_name": "Python 3",
   "language": "python",
   "name": "python3"
  },
  "language_info": {
   "codemirror_mode": {
    "name": "ipython",
    "version": 3
   },
   "file_extension": ".py",
   "mimetype": "text/x-python",
   "name": "python",
   "nbconvert_exporter": "python",
   "pygments_lexer": "ipython3",
   "version": "3.13.0"
  }
 },
 "nbformat": 4,
 "nbformat_minor": 5
}
