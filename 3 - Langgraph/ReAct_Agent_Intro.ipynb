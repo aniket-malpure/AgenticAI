{
 "cells": [
  {
   "cell_type": "code",
   "execution_count": 1,
   "id": "89fd474a",
   "metadata": {},
   "outputs": [],
   "source": [
    "import os\n",
    "from langchain_groq import ChatGroq\n",
    "from langchain_core.tools import tool\n",
    "from langchain_core.messages import HumanMessage, AIMessage\n",
    "from langgraph.graph import StateGraph,MessagesState,START,END\n",
    "from langgraph.prebuilt import ToolNode"
   ]
  },
  {
   "cell_type": "code",
   "execution_count": null,
   "id": "16911423",
   "metadata": {},
   "outputs": [
    {
     "data": {
      "text/plain": [
       "'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'"
      ]
     },
     "execution_count": 2,
     "metadata": {},
     "output_type": "execute_result"
    }
   ],
   "source": [
    "os.getenv('GROQ_API_KEY')"
   ]
  },
  {
   "cell_type": "code",
   "execution_count": 3,
   "id": "6eef8777",
   "metadata": {},
   "outputs": [],
   "source": [
    "model = 'deepseek-r1-distill-llama-70b'"
   ]
  },
  {
   "cell_type": "code",
   "execution_count": 4,
   "id": "bd225594",
   "metadata": {},
   "outputs": [],
   "source": [
    "from langchain_groq import ChatGroq"
   ]
  },
  {
   "cell_type": "code",
   "execution_count": 5,
   "id": "1ad79b62",
   "metadata": {},
   "outputs": [],
   "source": [
    "llm = ChatGroq(model_name=model)"
   ]
  },
  {
   "cell_type": "code",
   "execution_count": 6,
   "id": "ff10817b",
   "metadata": {},
   "outputs": [
    {
     "data": {
      "text/plain": [
       "AIMessage(content='<think>\\n\\n</think>\\n\\nHello! How can I assist you today? 😊', additional_kwargs={}, response_metadata={'token_usage': {'completion_tokens': 16, 'prompt_tokens': 4, 'total_tokens': 20, 'completion_time': 0.080155637, 'prompt_time': 6.1809e-05, 'queue_time': 0.200928454, 'total_time': 0.080217446}, 'model_name': 'deepseek-r1-distill-llama-70b', 'system_fingerprint': 'fp_1bbe7845ec', 'finish_reason': 'stop', 'logprobs': None}, id='run--3b794245-624c-40e1-ada5-4d3aff35ca2d-0', usage_metadata={'input_tokens': 4, 'output_tokens': 16, 'total_tokens': 20})"
      ]
     },
     "execution_count": 6,
     "metadata": {},
     "output_type": "execute_result"
    }
   ],
   "source": [
    "llm.invoke('hi')"
   ]
  },
  {
   "cell_type": "code",
   "execution_count": 7,
   "id": "ef611460",
   "metadata": {},
   "outputs": [],
   "source": [
    "def call_model(state:MessagesState):\n",
    "    question = state['messages']\n",
    "    print(f'this is my current message: {question}')\n",
    "    response = llm.invoke(question)\n",
    "    return {'messages':[response]}"
   ]
  },
  {
   "cell_type": "code",
   "execution_count": 8,
   "id": "67d851b7",
   "metadata": {},
   "outputs": [],
   "source": [
    "state={'messages': ['hi how are you?']}"
   ]
  },
  {
   "cell_type": "code",
   "execution_count": 9,
   "id": "7f472c1b",
   "metadata": {},
   "outputs": [
    {
     "name": "stdout",
     "output_type": "stream",
     "text": [
      "this is my current message: ['hi how are you?']\n"
     ]
    },
    {
     "data": {
      "text/plain": [
       "{'messages': [AIMessage(content=\"<think>\\n\\n</think>\\n\\nHi! I'm just a virtual assistant, so I don't have feelings, but I'm here and ready to help you with whatever you need. How are *you* doing? 😊\", additional_kwargs={}, response_metadata={'token_usage': {'completion_tokens': 44, 'prompt_tokens': 8, 'total_tokens': 52, 'completion_time': 0.168184347, 'prompt_time': 0.000159288, 'queue_time': 0.200983913, 'total_time': 0.168343635}, 'model_name': 'deepseek-r1-distill-llama-70b', 'system_fingerprint': 'fp_1bbe7845ec', 'finish_reason': 'stop', 'logprobs': None}, id='run--fc9492e3-42bb-48c8-a327-5e9801be7729-0', usage_metadata={'input_tokens': 8, 'output_tokens': 44, 'total_tokens': 52})]}"
      ]
     },
     "execution_count": 9,
     "metadata": {},
     "output_type": "execute_result"
    }
   ],
   "source": [
    "call_model(state)"
   ]
  },
  {
   "cell_type": "code",
   "execution_count": 10,
   "id": "b848307c",
   "metadata": {},
   "outputs": [],
   "source": [
    "workflow = StateGraph(MessagesState)"
   ]
  },
  {
   "cell_type": "code",
   "execution_count": 11,
   "id": "6b4d41da",
   "metadata": {},
   "outputs": [
    {
     "data": {
      "text/plain": [
       "<langgraph.graph.state.StateGraph at 0x197b98052b0>"
      ]
     },
     "execution_count": 11,
     "metadata": {},
     "output_type": "execute_result"
    }
   ],
   "source": [
    "workflow.add_node('MyBot', call_model)"
   ]
  },
  {
   "cell_type": "code",
   "execution_count": 12,
   "id": "be0f21a8",
   "metadata": {},
   "outputs": [
    {
     "data": {
      "text/plain": [
       "<langgraph.graph.state.StateGraph at 0x197b98052b0>"
      ]
     },
     "execution_count": 12,
     "metadata": {},
     "output_type": "execute_result"
    }
   ],
   "source": [
    "workflow.add_edge(START, 'MyBot')"
   ]
  },
  {
   "cell_type": "code",
   "execution_count": 13,
   "id": "e18c9e65",
   "metadata": {},
   "outputs": [
    {
     "data": {
      "text/plain": [
       "<langgraph.graph.state.StateGraph at 0x197b98052b0>"
      ]
     },
     "execution_count": 13,
     "metadata": {},
     "output_type": "execute_result"
    }
   ],
   "source": [
    "workflow.add_edge('MyBot', END)"
   ]
  },
  {
   "cell_type": "code",
   "execution_count": 14,
   "id": "825e0bb7",
   "metadata": {},
   "outputs": [
    {
     "data": {
      "image/png": "[encoded data removed]",
      "text/plain": [
       "<langgraph.graph.state.CompiledStateGraph object at 0x00000197B98056A0>"
      ]
     },
     "execution_count": 14,
     "metadata": {},
     "output_type": "execute_result"
    }
   ],
   "source": [
    "workflow.compile()"
   ]
  },
  {
   "cell_type": "code",
   "execution_count": 15,
   "id": "1b2adc0e",
   "metadata": {},
   "outputs": [],
   "source": [
    "app = workflow.compile()"
   ]
  },
  {
   "cell_type": "code",
   "execution_count": 16,
   "id": "10307162",
   "metadata": {},
   "outputs": [],
   "source": [
    "input = {'messages':['hi how are you?']}"
   ]
  },
  {
   "cell_type": "code",
   "execution_count": 17,
   "id": "b943b0c8",
   "metadata": {},
   "outputs": [
    {
     "name": "stdout",
     "output_type": "stream",
     "text": [
      "this is my current message: [HumanMessage(content='hi how are you?', additional_kwargs={}, response_metadata={}, id='2c4175d8-55fc-4a09-be08-580f6e60429b')]\n"
     ]
    },
    {
     "data": {
      "text/plain": [
       "{'messages': [HumanMessage(content='hi how are you?', additional_kwargs={}, response_metadata={}, id='2c4175d8-55fc-4a09-be08-580f6e60429b'),\n",
       "  AIMessage(content=\"<think>\\n\\n</think>\\n\\nHello! I'm just a virtual assistant, so I don't have feelings, but I'm here and ready to help you with whatever you need. How are you doing? 😊\", additional_kwargs={}, response_metadata={'token_usage': {'completion_tokens': 42, 'prompt_tokens': 8, 'total_tokens': 50, 'completion_time': 0.167981939, 'prompt_time': 0.000333936, 'queue_time': 0.20892882399999999, 'total_time': 0.168315875}, 'model_name': 'deepseek-r1-distill-llama-70b', 'system_fingerprint': 'fp_1bbe7845ec', 'finish_reason': 'stop', 'logprobs': None}, id='run--06d5c01c-4f7c-4967-bd6b-6012bb5c43fb-0', usage_metadata={'input_tokens': 8, 'output_tokens': 42, 'total_tokens': 50})]}"
      ]
     },
     "execution_count": 17,
     "metadata": {},
     "output_type": "execute_result"
    }
   ],
   "source": [
    "app.invoke(input)"
   ]
  },
  {
   "cell_type": "code",
   "execution_count": 18,
   "id": "b0636959",
   "metadata": {},
   "outputs": [
    {
     "name": "stdout",
     "output_type": "stream",
     "text": [
      "this is my current message: [HumanMessage(content='hi how are you?', additional_kwargs={}, response_metadata={}, id='2de858cc-ddb4-4116-a269-84d500fa50f7')]\n",
      "Output from MyBot Node\n",
      "_______\n",
      "{'messages': [AIMessage(content=\"<think>\\n\\n</think>\\n\\nHello! I'm just a virtual assistant, so I don't have feelings, but I'm here and ready to help you with whatever you need. How are you doing? 😊\", additional_kwargs={}, response_metadata={'token_usage': {'completion_tokens': 42, 'prompt_tokens': 8, 'total_tokens': 50, 'completion_time': 0.160916896, 'prompt_time': 0.000162308, 'queue_time': 0.201071736, 'total_time': 0.161079204}, 'model_name': 'deepseek-r1-distill-llama-70b', 'system_fingerprint': 'fp_1bbe7845ec', 'finish_reason': 'stop', 'logprobs': None}, id='run--f213c139-d2e3-41c3-8816-43228189e299-0', usage_metadata={'input_tokens': 8, 'output_tokens': 42, 'total_tokens': 50})]}\n",
      "\n",
      "\n"
     ]
    }
   ],
   "source": [
    "for output in app.stream(input):\n",
    "    for key,value in output.items():\n",
    "        print(f\"Output from {key} Node\")\n",
    "        print(\"_______\")\n",
    "        print(value)\n",
    "        print(\"\\n\")"
   ]
  },
  {
   "cell_type": "code",
   "execution_count": 19,
   "id": "75d9b35f",
   "metadata": {},
   "outputs": [],
   "source": [
    "@tool\n",
    "def search(query:str):\n",
    "    '''this is my custom tool for search weather information'''\n",
    "    if 'delhi' in query.lower():\n",
    "        return 'the temp is 45 degree and sunny'\n",
    "    else:\n",
    "        return 'the temp is 25 degree and cloudy'"
   ]
  },
  {
   "cell_type": "code",
   "execution_count": 20,
   "id": "c219e40d",
   "metadata": {},
   "outputs": [
    {
     "data": {
      "text/plain": [
       "'the temp is 45 degree and sunny'"
      ]
     },
     "execution_count": 20,
     "metadata": {},
     "output_type": "execute_result"
    }
   ],
   "source": [
    "search.invoke('what is the temperature in Delhi?')"
   ]
  },
  {
   "cell_type": "code",
   "execution_count": 21,
   "id": "6aaed227",
   "metadata": {},
   "outputs": [
    {
     "data": {
      "text/plain": [
       "StructuredTool(name='search', description='this is my custom tool for search weather information', args_schema=<class 'langchain_core.utils.pydantic.search'>, func=<function search at 0x00000197B94BECA0>)"
      ]
     },
     "execution_count": 21,
     "metadata": {},
     "output_type": "execute_result"
    }
   ],
   "source": [
    "search"
   ]
  },
  {
   "cell_type": "code",
   "execution_count": 22,
   "id": "835bb3f6",
   "metadata": {},
   "outputs": [],
   "source": [
    "tools = [search]"
   ]
  },
  {
   "cell_type": "code",
   "execution_count": 23,
   "id": "4e55c490",
   "metadata": {},
   "outputs": [],
   "source": [
    "llm_with_tool = llm.bind_tools(tools)"
   ]
  },
  {
   "cell_type": "code",
   "execution_count": 24,
   "id": "1f37d4ed",
   "metadata": {},
   "outputs": [],
   "source": [
    "response = llm_with_tool.invoke('What is the weather in Delhi?')"
   ]
  },
  {
   "cell_type": "code",
   "execution_count": 25,
   "id": "4ad3753c",
   "metadata": {},
   "outputs": [
    {
     "data": {
      "text/plain": [
       "AIMessage(content='', additional_kwargs={'tool_calls': [{'id': 'bgq15gg31', 'function': {'arguments': '{\"query\":\"Delhi weather\"}', 'name': 'search'}, 'type': 'function'}]}, response_metadata={'token_usage': {'completion_tokens': 196, 'prompt_tokens': 132, 'total_tokens': 328, 'completion_time': 0.875928992, 'prompt_time': 0.008441357, 'queue_time': 0.201041167, 'total_time': 0.884370349}, 'model_name': 'deepseek-r1-distill-llama-70b', 'system_fingerprint': 'fp_1bbe7845ec', 'finish_reason': 'tool_calls', 'logprobs': None}, id='run--8b5c943d-1dd0-4e06-8d98-e67db2285b01-0', tool_calls=[{'name': 'search', 'args': {'query': 'Delhi weather'}, 'id': 'bgq15gg31', 'type': 'tool_call'}], usage_metadata={'input_tokens': 132, 'output_tokens': 196, 'total_tokens': 328})"
      ]
     },
     "execution_count": 25,
     "metadata": {},
     "output_type": "execute_result"
    }
   ],
   "source": [
    "response"
   ]
  },
  {
   "cell_type": "code",
   "execution_count": 26,
   "id": "1eac7da5",
   "metadata": {},
   "outputs": [
    {
     "data": {
      "text/plain": [
       "[{'name': 'search',\n",
       "  'args': {'query': 'Delhi weather'},\n",
       "  'id': 'bgq15gg31',\n",
       "  'type': 'tool_call'}]"
      ]
     },
     "execution_count": 26,
     "metadata": {},
     "output_type": "execute_result"
    }
   ],
   "source": [
    "response.tool_calls"
   ]
  },
  {
   "cell_type": "code",
   "execution_count": 27,
   "id": "9e6611c0",
   "metadata": {},
   "outputs": [
    {
     "data": {
      "text/plain": [
       "''"
      ]
     },
     "execution_count": 27,
     "metadata": {},
     "output_type": "execute_result"
    }
   ],
   "source": [
    "response.content"
   ]
  },
  {
   "cell_type": "code",
   "execution_count": 28,
   "id": "9b63be00",
   "metadata": {},
   "outputs": [],
   "source": [
    "def call_model(state:MessagesState):\n",
    "    question=state['messages']\n",
    "    response = llm_with_tool.invoke(question)\n",
    "    return {'messages':[response]}"
   ]
  },
  {
   "cell_type": "code",
   "execution_count": 29,
   "id": "4072e8e6",
   "metadata": {},
   "outputs": [],
   "source": [
    "input={'messages':['What is the temperature in Delhi?']}"
   ]
  },
  {
   "cell_type": "code",
   "execution_count": 30,
   "id": "aea6eb4e",
   "metadata": {},
   "outputs": [
    {
     "data": {
      "text/plain": [
       "{'messages': [AIMessage(content='', additional_kwargs={'tool_calls': [{'id': 'cw9jw2yey', 'function': {'arguments': '{\"query\":\"Delhi temperature\"}', 'name': 'search'}, 'type': 'function'}]}, response_metadata={'token_usage': {'completion_tokens': 83, 'prompt_tokens': 132, 'total_tokens': 215, 'completion_time': 0.393128996, 'prompt_time': 0.008468035, 'queue_time': 0.20108248999999997, 'total_time': 0.401597031}, 'model_name': 'deepseek-r1-distill-llama-70b', 'system_fingerprint': 'fp_1bbe7845ec', 'finish_reason': 'tool_calls', 'logprobs': None}, id='run--ce2d0700-c025-403f-b921-126845d38dfb-0', tool_calls=[{'name': 'search', 'args': {'query': 'Delhi temperature'}, 'id': 'cw9jw2yey', 'type': 'tool_call'}], usage_metadata={'input_tokens': 132, 'output_tokens': 83, 'total_tokens': 215})]}"
      ]
     },
     "execution_count": 30,
     "metadata": {},
     "output_type": "execute_result"
    }
   ],
   "source": [
    "call_model(input)"
   ]
  },
  {
   "cell_type": "code",
   "execution_count": 31,
   "id": "e43e24c3",
   "metadata": {},
   "outputs": [],
   "source": [
    "def router_function(state:MessagesState):\n",
    "    message=state['messages']\n",
    "    last_message = message[-1]\n",
    "    if last_message.tool_calls:\n",
    "        return 'tools'\n",
    "    return END"
   ]
  },
  {
   "cell_type": "code",
   "execution_count": 32,
   "id": "c0226f13",
   "metadata": {},
   "outputs": [],
   "source": [
    "workflow2 = StateGraph(MessagesState)"
   ]
  },
  {
   "cell_type": "code",
   "execution_count": 33,
   "id": "49de54cf",
   "metadata": {},
   "outputs": [
    {
     "data": {
      "text/plain": [
       "<langgraph.graph.state.StateGraph at 0x197b983f250>"
      ]
     },
     "execution_count": 33,
     "metadata": {},
     "output_type": "execute_result"
    }
   ],
   "source": [
    "workflow2.add_node('llmWithTool', call_model)"
   ]
  },
  {
   "cell_type": "code",
   "execution_count": 34,
   "id": "f5a7df69",
   "metadata": {},
   "outputs": [],
   "source": [
    "tool_node = ToolNode(tools)"
   ]
  },
  {
   "cell_type": "code",
   "execution_count": 35,
   "id": "dfbccd72",
   "metadata": {},
   "outputs": [
    {
     "data": {
      "text/plain": [
       "<langgraph.graph.state.StateGraph at 0x197b983f250>"
      ]
     },
     "execution_count": 35,
     "metadata": {},
     "output_type": "execute_result"
    }
   ],
   "source": [
    "workflow2.add_node('mytools', tool_node)"
   ]
  },
  {
   "cell_type": "code",
   "execution_count": 36,
   "id": "76508b41",
   "metadata": {},
   "outputs": [
    {
     "data": {
      "text/plain": [
       "<langgraph.graph.state.StateGraph at 0x197b983f250>"
      ]
     },
     "execution_count": 36,
     "metadata": {},
     "output_type": "execute_result"
    }
   ],
   "source": [
    "workflow2.add_edge(START, 'llmWithTool')"
   ]
  },
  {
   "cell_type": "code",
   "execution_count": 37,
   "id": "fdd79bf8",
   "metadata": {},
   "outputs": [
    {
     "data": {
      "text/plain": [
       "<langgraph.graph.state.StateGraph at 0x197b983f250>"
      ]
     },
     "execution_count": 37,
     "metadata": {},
     "output_type": "execute_result"
    }
   ],
   "source": [
    "workflow2.add_conditional_edges('llmWithTool',\n",
    "                                router_function, \n",
    "                                {'tools': 'mytools', END:END})"
   ]
  },
  {
   "cell_type": "code",
   "execution_count": 38,
   "id": "d55591b7",
   "metadata": {},
   "outputs": [
    {
     "data": {
      "image/png": "[encoded data removed]",
      "text/plain": [
       "<langgraph.graph.state.CompiledStateGraph object at 0x00000197B983E850>"
      ]
     },
     "execution_count": 38,
     "metadata": {},
     "output_type": "execute_result"
    }
   ],
   "source": [
    "workflow2.compile()"
   ]
  },
  {
   "cell_type": "code",
   "execution_count": 39,
   "id": "2d28cd7e",
   "metadata": {},
   "outputs": [],
   "source": [
    "app = workflow2.compile()"
   ]
  },
  {
   "cell_type": "code",
   "execution_count": 40,
   "id": "3f3fb939",
   "metadata": {},
   "outputs": [
    {
     "data": {
      "text/plain": [
       "{'messages': [HumanMessage(content='what is the weather in Bangaluru?', additional_kwargs={}, response_metadata={}, id='2b54e055-440b-42bd-aa81-002069189fe2'),\n",
       "  AIMessage(content='', additional_kwargs={'tool_calls': [{'id': 'n9m9kwjwf', 'function': {'arguments': '{\"query\":\"Bangalore weather\"}', 'name': 'search'}, 'type': 'function'}]}, response_metadata={'token_usage': {'completion_tokens': 195, 'prompt_tokens': 134, 'total_tokens': 329, 'completion_time': 0.913934851, 'prompt_time': 0.014960857, 'queue_time': 0.201065519, 'total_time': 0.928895708}, 'model_name': 'deepseek-r1-distill-llama-70b', 'system_fingerprint': 'fp_1bbe7845ec', 'finish_reason': 'tool_calls', 'logprobs': None}, id='run--3a38b660-e0fc-451b-8ed8-d780bae775b2-0', tool_calls=[{'name': 'search', 'args': {'query': 'Bangalore weather'}, 'id': 'n9m9kwjwf', 'type': 'tool_call'}], usage_metadata={'input_tokens': 134, 'output_tokens': 195, 'total_tokens': 329}),\n",
       "  ToolMessage(content='the temp is 25 degree and cloudy', name='search', id='467c7f19-f1bd-4cef-ad7d-770c9f4e6e25', tool_call_id='n9m9kwjwf')]}"
      ]
     },
     "execution_count": 40,
     "metadata": {},
     "output_type": "execute_result"
    }
   ],
   "source": [
    "app.invoke({'messages':['what is the weather in Bangaluru?']})"
   ]
  },
  {
   "cell_type": "code",
   "execution_count": 41,
   "id": "1ce8008a",
   "metadata": {},
   "outputs": [
    {
     "data": {
      "text/plain": [
       "{'messages': [HumanMessage(content='what is ai?', additional_kwargs={}, response_metadata={}, id='0b9aea24-f31a-4971-9961-5a64cff807d3'),\n",
       "  AIMessage(content='Artificial Intelligence (AI) refers to the simulation of human intelligence in machines that are programmed to think and learn like humans. It encompasses various technologies like machine learning, natural language processing, and robotics. AI systems can perform tasks such as problem-solving, decision-making, speech recognition, and more. If you have specific questions about AI or its applications, feel free to ask!', additional_kwargs={}, response_metadata={'token_usage': {'completion_tokens': 326, 'prompt_tokens': 129, 'total_tokens': 455, 'completion_time': 1.4004559859999999, 'prompt_time': 0.014738679, 'queue_time': 0.201234165, 'total_time': 1.415194665}, 'model_name': 'deepseek-r1-distill-llama-70b', 'system_fingerprint': 'fp_1bbe7845ec', 'finish_reason': 'stop', 'logprobs': None}, id='run--90749a85-43d4-492e-a654-4fc044e11c69-0', usage_metadata={'input_tokens': 129, 'output_tokens': 326, 'total_tokens': 455})]}"
      ]
     },
     "execution_count": 41,
     "metadata": {},
     "output_type": "execute_result"
    }
   ],
   "source": [
    "app.invoke({'messages':['what is ai?']})"
   ]
  },
  {
   "cell_type": "code",
   "execution_count": 42,
   "id": "d34f3e25",
   "metadata": {},
   "outputs": [
    {
     "name": "stderr",
     "output_type": "stream",
     "text": [
      "Adding an edge to a graph that has already been compiled. This will not be reflected in the compiled graph.\n"
     ]
    },
    {
     "data": {
      "text/plain": [
       "<langgraph.graph.state.StateGraph at 0x197b983f250>"
      ]
     },
     "execution_count": 42,
     "metadata": {},
     "output_type": "execute_result"
    }
   ],
   "source": [
    "workflow2.add_edge(\"mytools\", 'llmWithTool')"
   ]
  },
  {
   "cell_type": "code",
   "execution_count": 44,
   "id": "6bc282c2",
   "metadata": {},
   "outputs": [
    {
     "data": {
      "image/png": "[encoded data removed]",
      "text/plain": [
       "<langgraph.graph.state.CompiledStateGraph object at 0x00000197B98456E0>"
      ]
     },
     "execution_count": 44,
     "metadata": {},
     "output_type": "execute_result"
    }
   ],
   "source": [
    "workflow2.compile()"
   ]
  },
  {
   "cell_type": "code",
   "execution_count": 45,
   "id": "845da2c1",
   "metadata": {},
   "outputs": [],
   "source": [
    "app3 = workflow2.compile()"
   ]
  },
  {
   "cell_type": "code",
   "execution_count": 49,
   "id": "abcdc76e",
   "metadata": {},
   "outputs": [
    {
     "name": "stdout",
     "output_type": "stream",
     "text": [
      "here is output from llmWithTool\n",
      "_______\n",
      "{'messages': [AIMessage(content='', additional_kwargs={'tool_calls': [{'id': '0mrr8ffdr', 'function': {'arguments': '{\"query\":\"temperature in New Delhi\"}', 'name': 'search'}, 'type': 'function'}]}, response_metadata={'token_usage': {'completion_tokens': 170, 'prompt_tokens': 130, 'total_tokens': 300, 'completion_time': 0.738534184, 'prompt_time': 0.01474911, 'queue_time': 0.235065112, 'total_time': 0.753283294}, 'model_name': 'deepseek-r1-distill-llama-70b', 'system_fingerprint': 'fp_1bbe7845ec', 'finish_reason': 'tool_calls', 'logprobs': None}, id='run--a7569652-3dca-4bae-88d4-ddaa710c03ba-0', tool_calls=[{'name': 'search', 'args': {'query': 'temperature in New Delhi'}, 'id': '0mrr8ffdr', 'type': 'tool_call'}], usage_metadata={'input_tokens': 130, 'output_tokens': 170, 'total_tokens': 300})]}\n",
      "\n",
      "\n",
      "here is output from mytools\n",
      "_______\n",
      "{'messages': [ToolMessage(content='the temp is 45 degree and sunny', name='search', id='45efeff8-d1d7-4574-8d28-193d73105b6b', tool_call_id='0mrr8ffdr')]}\n",
      "\n",
      "\n",
      "here is output from llmWithTool\n",
      "_______\n",
      "{'messages': [AIMessage(content=\"Yes, 45 degrees is extremely hot! Make sure to stay hydrated and take precautions if you're out and about.\", additional_kwargs={}, response_metadata={'token_usage': {'completion_tokens': 183, 'prompt_tokens': 189, 'total_tokens': 372, 'completion_time': 0.913128857, 'prompt_time': 0.011768728, 'queue_time': 0.234446404, 'total_time': 0.924897585}, 'model_name': 'deepseek-r1-distill-llama-70b', 'system_fingerprint': 'fp_1bbe7845ec', 'finish_reason': 'stop', 'logprobs': None}, id='run--6d028b19-5612-405a-be00-6809664ed1ef-0', usage_metadata={'input_tokens': 189, 'output_tokens': 183, 'total_tokens': 372})]}\n",
      "\n",
      "\n"
     ]
    }
   ],
   "source": [
    "for op in app3.stream({\"messages\":[\"Temperature in New Delhi?\"]}):\n",
    "    for key,value in op.items():\n",
    "        print(f\"here is output from {key}\")\n",
    "        print(\"_______\")\n",
    "        print(value)\n",
    "        print(\"\\n\")"
   ]
  },
  {
   "cell_type": "code",
   "execution_count": 50,
   "id": "98be76d0",
   "metadata": {},
   "outputs": [],
   "source": [
    "from langgraph.checkpoint.memory import MemorySaver"
   ]
  },
  {
   "cell_type": "code",
   "execution_count": 51,
   "id": "73460e73",
   "metadata": {},
   "outputs": [],
   "source": [
    "memory = MemorySaver()"
   ]
  },
  {
   "cell_type": "code",
   "execution_count": 52,
   "id": "35b84adf",
   "metadata": {},
   "outputs": [],
   "source": [
    "app4 = workflow2.compile(checkpointer=memory)"
   ]
  },
  {
   "cell_type": "code",
   "execution_count": 53,
   "id": "88f94ee5",
   "metadata": {},
   "outputs": [],
   "source": [
    "config = {\"configurable\": {\"thread_id\": \"1\"}}"
   ]
  },
  {
   "cell_type": "code",
   "execution_count": 55,
   "id": "ed1684fb",
   "metadata": {},
   "outputs": [],
   "source": [
    "events=app4.stream(\n",
    "    {\"messages\":[\"How is the weather in new delhi?\"]},config=config,stream_mode=\"values\"\n",
    "    )"
   ]
  },
  {
   "cell_type": "code",
   "execution_count": 56,
   "id": "b9effb40",
   "metadata": {},
   "outputs": [
    {
     "name": "stdout",
     "output_type": "stream",
     "text": [
      "================================\u001b[1m Human Message \u001b[0m=================================\n",
      "\n",
      "How is the weather in new delhi?\n",
      "==================================\u001b[1m Ai Message \u001b[0m==================================\n",
      "Tool Calls:\n",
      "  search (6e9x06twh)\n",
      " Call ID: 6e9x06twh\n",
      "  Args:\n",
      "    query: new delhi\n",
      "=================================\u001b[1m Tool Message \u001b[0m=================================\n",
      "Name: search\n",
      "\n",
      "the temp is 45 degree and sunny\n",
      "==================================\u001b[1m Ai Message \u001b[0m==================================\n",
      "\n",
      "The weather in New Delhi is currently 45 degrees and sunny. Stay hydrated and take care in the heat! Let me know if you need more details or assistance.\n"
     ]
    }
   ],
   "source": [
    "for event in events:\n",
    "    event[\"messages\"][-1].pretty_print()"
   ]
  },
  {
   "cell_type": "code",
   "execution_count": 61,
   "id": "2e03bc82",
   "metadata": {},
   "outputs": [],
   "source": [
    "events=app4.stream(\n",
    "    {\"messages\":[\"how is the weather in indore?\"]},config=config,stream_mode=\"values\"\n",
    "    )"
   ]
  },
  {
   "cell_type": "code",
   "execution_count": 62,
   "id": "77152bd8",
   "metadata": {},
   "outputs": [
    {
     "name": "stdout",
     "output_type": "stream",
     "text": [
      "================================\u001b[1m Human Message \u001b[0m=================================\n",
      "\n",
      "how is the weather in indore?\n",
      "==================================\u001b[1m Ai Message \u001b[0m==================================\n",
      "Tool Calls:\n",
      "  search (4hpsjyzs4)\n",
      " Call ID: 4hpsjyzs4\n",
      "  Args:\n",
      "    query: indore\n",
      "=================================\u001b[1m Tool Message \u001b[0m=================================\n",
      "Name: search\n",
      "\n",
      "the temp is 25 degree and cloudy\n",
      "==================================\u001b[1m Ai Message \u001b[0m==================================\n",
      "\n",
      "The weather in Indore is currently 25 degrees and cloudy. Consider wearing light layers or carrying an umbrella if you're planning to go out. Let me know if you need more details!\n"
     ]
    }
   ],
   "source": [
    "for event in events:\n",
    "    event[\"messages\"][-1].pretty_print()"
   ]
  },
  {
   "cell_type": "code",
   "execution_count": 63,
   "id": "f916fb32",
   "metadata": {},
   "outputs": [
    {
     "data": {
      "text/plain": [
       "{'v': 3,\n",
       " 'ts': '2025-06-22T01:48:11.647129+00:00',\n",
       " 'id': '1f04f0af-45cb-6f5e-800f-c81ab86ab456',\n",
       " 'channel_versions': {'__start__': '00000000000000000000000000000014.0.8152010394250706',\n",
       "  'messages': '00000000000000000000000000000017.0.25924613122217477',\n",
       "  'branch:to:llmWithTool': '00000000000000000000000000000017.0.46557750705930345',\n",
       "  'branch:to:mytools': '00000000000000000000000000000016.0.8095804729358312'},\n",
       " 'versions_seen': {'__input__': {},\n",
       "  '__start__': {'__start__': '00000000000000000000000000000013.0.824811498619158'},\n",
       "  'llmWithTool': {'branch:to:llmWithTool': '00000000000000000000000000000016.0.0228128693002424'},\n",
       "  'mytools': {'branch:to:mytools': '00000000000000000000000000000015.0.020743842826497216'}},\n",
       " 'channel_values': {'messages': [HumanMessage(content='How is the weather in new delhi?', additional_kwargs={}, response_metadata={}, id='5053c5c0-494b-47ea-b4b5-d6354b20e9b2'),\n",
       "   AIMessage(content='', additional_kwargs={'tool_calls': [{'id': '6e9x06twh', 'function': {'arguments': '{\"query\":\"new delhi\"}', 'name': 'search'}, 'type': 'function'}]}, response_metadata={'token_usage': {'completion_tokens': 220, 'prompt_tokens': 134, 'total_tokens': 354, 'completion_time': 0.941145574, 'prompt_time': 0.016124305, 'queue_time': 0.201342732, 'total_time': 0.957269879}, 'model_name': 'deepseek-r1-distill-llama-70b', 'system_fingerprint': 'fp_1bbe7845ec', 'finish_reason': 'tool_calls', 'logprobs': None}, id='run--cf15986c-58e5-4d0e-88e5-099c63c926ab-0', tool_calls=[{'name': 'search', 'args': {'query': 'new delhi'}, 'id': '6e9x06twh', 'type': 'tool_call'}], usage_metadata={'input_tokens': 134, 'output_tokens': 220, 'total_tokens': 354}),\n",
       "   ToolMessage(content='the temp is 45 degree and sunny', name='search', id='7fe08fd4-fb65-4b50-a337-b77912d8bb53', tool_call_id='6e9x06twh'),\n",
       "   AIMessage(content='The weather in New Delhi is currently 45 degrees and sunny. Stay hydrated and take care in the heat! Let me know if you need more details or assistance.', additional_kwargs={}, response_metadata={'token_usage': {'completion_tokens': 259, 'prompt_tokens': 193, 'total_tokens': 452, 'completion_time': 1.119158962, 'prompt_time': 0.011986989, 'queue_time': 0.200988762, 'total_time': 1.131145951}, 'model_name': 'deepseek-r1-distill-llama-70b', 'system_fingerprint': 'fp_1bbe7845ec', 'finish_reason': 'stop', 'logprobs': None}, id='run--142b94b9-4ba1-44ae-9b9e-efaa911a10d0-0', usage_metadata={'input_tokens': 193, 'output_tokens': 259, 'total_tokens': 452}),\n",
       "   HumanMessage(content='what is a weather in indore?', additional_kwargs={}, response_metadata={}, id='e7fa2a8a-36ce-4a74-8f4b-e8e04a79d1cd'),\n",
       "   AIMessage(content='', additional_kwargs={'tool_calls': [{'id': 'rg1yrqcf9', 'function': {'arguments': '{\"query\":\"indore\"}', 'name': 'search'}, 'type': 'function'}]}, response_metadata={'token_usage': {'completion_tokens': 183, 'prompt_tokens': 237, 'total_tokens': 420, 'completion_time': 0.831786234, 'prompt_time': 0.014463803, 'queue_time': 0.20179080800000002, 'total_time': 0.846250037}, 'model_name': 'deepseek-r1-distill-llama-70b', 'system_fingerprint': 'fp_1bbe7845ec', 'finish_reason': 'tool_calls', 'logprobs': None}, id='run--6dc0e0ee-367e-4800-a041-48f678faa6e6-0', tool_calls=[{'name': 'search', 'args': {'query': 'indore'}, 'id': 'rg1yrqcf9', 'type': 'tool_call'}], usage_metadata={'input_tokens': 237, 'output_tokens': 183, 'total_tokens': 420}),\n",
       "   ToolMessage(content='the temp is 25 degree and cloudy', name='search', id='30564ae2-9cda-42c0-960b-26d9c1f03bd4', tool_call_id='rg1yrqcf9'),\n",
       "   AIMessage(content=\"The weather in Indore is currently 25 degrees and cloudy. Consider wearing light layers or carrying an umbrella if you're planning to go out. Let me know if you need more details!\", additional_kwargs={}, response_metadata={'token_usage': {'completion_tokens': 190, 'prompt_tokens': 294, 'total_tokens': 484, 'completion_time': 0.878295778, 'prompt_time': 0.018734171, 'queue_time': 0.201367329, 'total_time': 0.897029949}, 'model_name': 'deepseek-r1-distill-llama-70b', 'system_fingerprint': 'fp_1bbe7845ec', 'finish_reason': 'stop', 'logprobs': None}, id='run--76b4d8d8-421a-46d3-90cb-aee9e473a385-0', usage_metadata={'input_tokens': 294, 'output_tokens': 190, 'total_tokens': 484}),\n",
       "   HumanMessage(content='how is the weather in indore?', additional_kwargs={}, response_metadata={}, id='4b622f25-a3d7-458d-aa42-c435e12ebcea'),\n",
       "   HumanMessage(content='how is the weather in indore?', additional_kwargs={}, response_metadata={}, id='bd3f1a67-eee5-49a2-a7e7-46cc667964d6'),\n",
       "   AIMessage(content='', additional_kwargs={'tool_calls': [{'id': '4hpsjyzs4', 'function': {'arguments': '{\"query\":\"indore\"}', 'name': 'search'}, 'type': 'function'}]}, response_metadata={'token_usage': {'completion_tokens': 148, 'prompt_tokens': 352, 'total_tokens': 500, 'completion_time': 0.555843532, 'prompt_time': 0.029488715, 'queue_time': 0.201324923, 'total_time': 0.585332247}, 'model_name': 'deepseek-r1-distill-llama-70b', 'system_fingerprint': 'fp_1bbe7845ec', 'finish_reason': 'tool_calls', 'logprobs': None}, id='run--95e1fbf3-1e08-4b03-93c0-8fe2562b0608-0', tool_calls=[{'name': 'search', 'args': {'query': 'indore'}, 'id': '4hpsjyzs4', 'type': 'tool_call'}], usage_metadata={'input_tokens': 352, 'output_tokens': 148, 'total_tokens': 500}),\n",
       "   ToolMessage(content='the temp is 25 degree and cloudy', name='search', id='55ab543e-a7d6-4cd6-bd6c-931de943f8df', tool_call_id='4hpsjyzs4'),\n",
       "   AIMessage(content=\"The weather in Indore is currently 25 degrees and cloudy. Consider wearing light layers or carrying an umbrella if you're planning to go out. Let me know if you need more details!\", additional_kwargs={}, response_metadata={'token_usage': {'completion_tokens': 202, 'prompt_tokens': 410, 'total_tokens': 612, 'completion_time': 0.889428809, 'prompt_time': 0.026333918, 'queue_time': 0.21547683999999998, 'total_time': 0.915762727}, 'model_name': 'deepseek-r1-distill-llama-70b', 'system_fingerprint': 'fp_1bbe7845ec', 'finish_reason': 'stop', 'logprobs': None}, id='run--c332df41-0944-4291-8679-01edbd7f4bc9-0', usage_metadata={'input_tokens': 410, 'output_tokens': 202, 'total_tokens': 612})]},\n",
       " 'pending_sends': []}"
      ]
     },
     "execution_count": 63,
     "metadata": {},
     "output_type": "execute_result"
    }
   ],
   "source": [
    "memory.get(config)"
   ]
  },
  {
   "cell_type": "code",
   "execution_count": null,
   "id": "8bd7b5ca",
   "metadata": {},
   "outputs": [],
   "source": []
  }
 ],
 "metadata": {
  "kernelspec": {
   "display_name": "Python 3",
   "language": "python",
   "name": "python3"
  },
  "language_info": {
   "codemirror_mode": {
    "name": "ipython",
    "version": 3
   },
   "file_extension": ".py",
   "mimetype": "text/x-python",
   "name": "python",
   "nbconvert_exporter": "python",
   "pygments_lexer": "ipython3",
   "version": "3.13.0"
  }
 },
 "nbformat": 4,
 "nbformat_minor": 5
}
