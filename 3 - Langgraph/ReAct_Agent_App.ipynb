{
 "cells": [
  {
   "cell_type": "code",
   "execution_count": 80,
   "id": "86d4bd69",
   "metadata": {},
   "outputs": [],
   "source": [
    "import os\n",
    "from langchain_groq import ChatGroq\n",
    "from langchain_core.tools import tool\n",
    "from langchain_community.tools import DuckDuckGoSearchRun\n",
    "from langchain_core.messages import HumanMessage, SystemMessage\n",
    "from langgraph.graph import StateGraph,MessagesState,START,END\n",
    "from langgraph.prebuilt import ToolNode, tools_condition\n",
    "import yfinance as yf\n",
    "from IPython.display import Image, display"
   ]
  },
  {
   "cell_type": "markdown",
   "id": "81531891",
   "metadata": {},
   "source": [
    "### Configuring Model "
   ]
  },
  {
   "cell_type": "code",
   "execution_count": 2,
   "id": "ff696b39",
   "metadata": {},
   "outputs": [
    {
     "data": {
      "text/plain": [
       "'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'"
      ]
     },
     "execution_count": 2,
     "metadata": {},
     "output_type": "execute_result"
    }
   ],
   "source": [
    "os.getenv('GROQ_API_KEY')"
   ]
  },
  {
   "cell_type": "code",
   "execution_count": 3,
   "id": "4a716059",
   "metadata": {},
   "outputs": [],
   "source": [
    "model = 'deepseek-r1-distill-llama-70b'"
   ]
  },
  {
   "cell_type": "code",
   "execution_count": 4,
   "id": "4ed66d0d",
   "metadata": {},
   "outputs": [],
   "source": [
    "llm = ChatGroq(model_name=model, temperature=0)"
   ]
  },
  {
   "cell_type": "code",
   "execution_count": 5,
   "id": "46e9c240",
   "metadata": {},
   "outputs": [],
   "source": [
    "response = llm.invoke(\"What is the length of wall of China?\")"
   ]
  },
  {
   "cell_type": "code",
   "execution_count": 6,
   "id": "42f7776e",
   "metadata": {},
   "outputs": [
    {
     "data": {
      "text/plain": [
       "\"<think>\\nOkay, so I need to figure out the length of the Great Wall of China. I remember hearing that it's really long, but I'm not exactly sure how long. I think it's somewhere in the thousands of kilometers, but I'm not certain. Let me try to break this down.\\n\\nFirst, I know the Great Wall is a series of fortifications built across several Chinese dynasties to protect the borders. It's not just one continuous wall but made up of different sections built at different times. So, the total length would be the sum of all these sections.\\n\\nI've heard different numbers before. Some people say it's about 13,000 miles, others say it's around 21,000 kilometers. Wait, that seems like a big difference. Maybe it's because some sources include all the branches and sections, while others just count the main parts.\\n\\nI should consider the units. 13,000 miles converted to kilometers would be around 20,920 km, which is close to 21,000 km. So maybe both figures are referring to the same total length but just using different units. That makes sense because 1 mile is approximately 1.609 kilometers.\\n\\nBut why is there confusion about the exact length? I think it's because the wall isn't in one straight line. It has watchtowers, beacon towers, and gateways. Also, some parts are overlapping or have been destroyed over time, which might make measurement tricky.\\n\\nI remember reading that in 2012, the National Cultural Heritage Administration of China did a survey. They measured the wall using modern technology like GPS and found it to be about 21,196 kilometers. That's more precise than earlier estimates. So, the exact length is around 21,000 kilometers, give or take a few hundred.\\n\\nWait, but some sources still say 13,000 miles. Let me check the conversion again. 21,000 km divided by 1.609 gives roughly 13,050 miles. So, both 21,000 km and 13,000 miles are correct, just in different units.\\n\\nI should also consider that the wall isn't just above ground. There are underground sections, like tunnels, which might add to the total length. But I'm not sure if those are included in the official measurements.\\n\\nAnother thing is that the wall was built in different dynasties, and each section might have been measured differently. Some parts are well-preserved and easy to measure, while others are in ruins or even missing, which could affect the total length.\\n\\nSo, putting it all together, the most accurate recent measurement is about 21,196 kilometers, which is approximately 13,170 miles. This includes all the branches, spurs, and even some overlapping parts. So, the length is just over 21,000 kilometers or 13,000 miles, depending on the unit used.\\n\\nI think that's the answer. The Great Wall of China is about 21,000 kilometers long when measured in total, including all its sections and branches.\\n</think>\\n\\nThe Great Wall of China is approximately 21,196 kilometers (13,170 miles) long, as measured in a 2012 survey by the National Cultural Heritage Administration of China. This total includes all sections, branches, and overlapping parts, providing a comprehensive measurement of this historic structure.\""
      ]
     },
     "execution_count": 6,
     "metadata": {},
     "output_type": "execute_result"
    }
   ],
   "source": [
    "response.content"
   ]
  },
  {
   "cell_type": "markdown",
   "id": "9aae36f1",
   "metadata": {},
   "source": [
    "### Custom Tool"
   ]
  },
  {
   "cell_type": "code",
   "execution_count": 10,
   "id": "12d09f96",
   "metadata": {},
   "outputs": [],
   "source": [
    "@tool\n",
    "def multiply(a: int, b: int) -> int:\n",
    "    \"\"\"\n",
    "    Multiply two integers.\n",
    "\n",
    "    Args:\n",
    "        a (int): The first integer.\n",
    "        b (int): The second integer.\n",
    "\n",
    "    Returns:\n",
    "        int: The product of a and b.\n",
    "    \"\"\"\n",
    "    return a * b\n",
    "\n",
    "@tool\n",
    "def add(a: int, b: int) -> int:\n",
    "    \"\"\"\n",
    "    Add two integers.\n",
    "\n",
    "    Args:\n",
    "        a (int): The first integer.\n",
    "        b (int): The second integer.\n",
    "\n",
    "    Returns:\n",
    "        int: The sum of a and b.\n",
    "    \"\"\"\n",
    "    return a + b\n",
    "\n",
    "@tool\n",
    "def divide(a: int, b: int) -> float:\n",
    "    \"\"\"\n",
    "    Divide two integers.\n",
    "\n",
    "    Args:\n",
    "        a (int): The numerator.\n",
    "        b (int): The denominator (must not be 0).\n",
    "\n",
    "    Returns:\n",
    "        float: The result of division.\n",
    "    \"\"\"\n",
    "    if b == 0:\n",
    "        raise ValueError(\"Denominator cannot be zero.\")\n",
    "    return a / b"
   ]
  },
  {
   "cell_type": "markdown",
   "id": "16889563",
   "metadata": {},
   "source": [
    "### Inbuilt Tool"
   ]
  },
  {
   "cell_type": "code",
   "execution_count": null,
   "id": "37ed12c8",
   "metadata": {},
   "outputs": [],
   "source": [
    "search = DuckDuckGoSearchRun()"
   ]
  },
  {
   "cell_type": "code",
   "execution_count": 9,
   "id": "90f5a599",
   "metadata": {},
   "outputs": [
    {
     "data": {
      "text/plain": [
       "\"Live updates on today's local & national top stories: politics, entertainment, sports, health & safety news with summaries, numbers, videos, and news facts. NPR news, audio, and podcasts. Coverage of breaking stories, national and world news, politics, business, science, technology, and extended coverage of major national and world events. The United States on Sunday targeted three nuclear sites in Iran, as it intervened in the ongoing conflict between the Islamic Republic and Israel and triggered fears of dangerous escalation of ... Live news, investigations, opinion, photos and video by the journalists of The New York Times from more than 150 countries around the world. Subscribe for coverage of U.S. and international news ... You'll find the latest prices and price changes for the Nasdaq, S&P 500 and the Dow Jones Industrial Average, as well as for the Russell 2000. Track Stock Futures For The Dow Jones, S&P 500 And Nasdaq\""
      ]
     },
     "execution_count": 9,
     "metadata": {},
     "output_type": "execute_result"
    }
   ],
   "source": [
    "search.invoke(\"What is the current trensing news?\")"
   ]
  },
  {
   "cell_type": "markdown",
   "id": "8808bc66",
   "metadata": {},
   "source": [
    "### Tool Binding"
   ]
  },
  {
   "cell_type": "code",
   "execution_count": 11,
   "id": "43be2ffd",
   "metadata": {},
   "outputs": [],
   "source": [
    "tools=[multiply, add, divide, search]"
   ]
  },
  {
   "cell_type": "code",
   "execution_count": 12,
   "id": "9cd55736",
   "metadata": {},
   "outputs": [],
   "source": [
    "llm_with_tools = llm.bind_tools(tools)"
   ]
  },
  {
   "cell_type": "code",
   "execution_count": 14,
   "id": "36b8da1d",
   "metadata": {},
   "outputs": [],
   "source": [
    "response = llm_with_tools.invoke(\"Hi\")"
   ]
  },
  {
   "cell_type": "code",
   "execution_count": 15,
   "id": "3201d5e1",
   "metadata": {},
   "outputs": [
    {
     "data": {
      "text/plain": [
       "'Hello! How can I assist you today?'"
      ]
     },
     "execution_count": 15,
     "metadata": {},
     "output_type": "execute_result"
    }
   ],
   "source": [
    "response.content"
   ]
  },
  {
   "cell_type": "code",
   "execution_count": 16,
   "id": "a220b83b",
   "metadata": {},
   "outputs": [
    {
     "data": {
      "text/plain": [
       "[]"
      ]
     },
     "execution_count": 16,
     "metadata": {},
     "output_type": "execute_result"
    }
   ],
   "source": [
    "response.tool_calls"
   ]
  },
  {
   "cell_type": "code",
   "execution_count": 17,
   "id": "f94ab0aa",
   "metadata": {},
   "outputs": [],
   "source": [
    "response = llm_with_tools.invoke(\"what is 2+2?\")"
   ]
  },
  {
   "cell_type": "code",
   "execution_count": 18,
   "id": "71acdcce",
   "metadata": {},
   "outputs": [
    {
     "data": {
      "text/plain": [
       "''"
      ]
     },
     "execution_count": 18,
     "metadata": {},
     "output_type": "execute_result"
    }
   ],
   "source": [
    "response.content"
   ]
  },
  {
   "cell_type": "code",
   "execution_count": 19,
   "id": "959aa229",
   "metadata": {},
   "outputs": [
    {
     "data": {
      "text/plain": [
       "[{'name': 'add',\n",
       "  'args': {'a': 2, 'b': 2},\n",
       "  'id': '17ft0z818',\n",
       "  'type': 'tool_call'}]"
      ]
     },
     "execution_count": 19,
     "metadata": {},
     "output_type": "execute_result"
    }
   ],
   "source": [
    "response.tool_calls"
   ]
  },
  {
   "cell_type": "markdown",
   "id": "32a39d5f",
   "metadata": {},
   "source": [
    "### Orchestration (Designing Workflow)"
   ]
  },
  {
   "cell_type": "code",
   "execution_count": 46,
   "id": "2cc85321",
   "metadata": {},
   "outputs": [],
   "source": [
    "SYSTEM_PROMPT=\"You are a helpful assistant tasked with using search and performing arithmetic on a set of inputs.\""
   ]
  },
  {
   "cell_type": "code",
   "execution_count": 47,
   "id": "769a37fa",
   "metadata": {},
   "outputs": [],
   "source": [
    "user_query=[\"tell me what is 2+2\"]"
   ]
  },
  {
   "cell_type": "code",
   "execution_count": 48,
   "id": "48c7fdfa",
   "metadata": {},
   "outputs": [],
   "source": [
    "def function_1(state:MessagesState):\n",
    "    \n",
    "    user_question = state['messages']\n",
    "\n",
    "    input_question = [SYSTEM_PROMPT]+user_question\n",
    "\n",
    "    response = llm_with_tools.invoke(input_question) \n",
    "\n",
    "    return {\n",
    "        \"messages\":[response]\n",
    "    }"
   ]
  },
  {
   "cell_type": "code",
   "execution_count": 49,
   "id": "fedba606",
   "metadata": {},
   "outputs": [],
   "source": [
    "builder = StateGraph(MessagesState)"
   ]
  },
  {
   "cell_type": "code",
   "execution_count": 50,
   "id": "5a34b4b9",
   "metadata": {},
   "outputs": [
    {
     "data": {
      "text/plain": [
       "<langgraph.graph.state.StateGraph at 0x15fe871e990>"
      ]
     },
     "execution_count": 50,
     "metadata": {},
     "output_type": "execute_result"
    }
   ],
   "source": [
    "builder.add_node('llm_decision_step', function_1)"
   ]
  },
  {
   "cell_type": "code",
   "execution_count": 51,
   "id": "ef1b411c",
   "metadata": {},
   "outputs": [
    {
     "data": {
      "text/plain": [
       "<langgraph.graph.state.StateGraph at 0x15fe871e990>"
      ]
     },
     "execution_count": 51,
     "metadata": {},
     "output_type": "execute_result"
    }
   ],
   "source": [
    "builder.add_node('tools', ToolNode(tools))"
   ]
  },
  {
   "cell_type": "code",
   "execution_count": 52,
   "id": "00afa197",
   "metadata": {},
   "outputs": [
    {
     "data": {
      "text/plain": [
       "<langgraph.graph.state.StateGraph at 0x15fe871e990>"
      ]
     },
     "execution_count": 52,
     "metadata": {},
     "output_type": "execute_result"
    }
   ],
   "source": [
    "builder.add_edge(START, 'llm_decision_step')"
   ]
  },
  {
   "cell_type": "code",
   "execution_count": 53,
   "id": "13012076",
   "metadata": {},
   "outputs": [
    {
     "data": {
      "text/plain": [
       "<langgraph.graph.state.StateGraph at 0x15fe871e990>"
      ]
     },
     "execution_count": 53,
     "metadata": {},
     "output_type": "execute_result"
    }
   ],
   "source": [
    "builder.add_conditional_edges('llm_decision_step',\n",
    "                              tools_condition,)"
   ]
  },
  {
   "cell_type": "markdown",
   "id": "4e9a9024",
   "metadata": {},
   "source": [
    "The tools_condition function in LangGraph is used to determine the next node in a graph based on whether a tool call is needed or if the process should end. It is commonly used in conditional edges to route the flow of the graph."
   ]
  },
  {
   "cell_type": "code",
   "execution_count": 54,
   "id": "e1ee2588",
   "metadata": {},
   "outputs": [
    {
     "data": {
      "text/plain": [
       "<langgraph.graph.state.StateGraph at 0x15fe871e990>"
      ]
     },
     "execution_count": 54,
     "metadata": {},
     "output_type": "execute_result"
    }
   ],
   "source": [
    "builder.add_edge('tools', 'llm_decision_step')"
   ]
  },
  {
   "cell_type": "code",
   "execution_count": 55,
   "id": "9bb77cd2",
   "metadata": {},
   "outputs": [
    {
     "data": {
      "image/png": "[encoded data removed]",
      "text/plain": [
       "<langgraph.graph.state.CompiledStateGraph object at 0x0000015FE8CE7390>"
      ]
     },
     "execution_count": 55,
     "metadata": {},
     "output_type": "execute_result"
    }
   ],
   "source": [
    "builder.compile()"
   ]
  },
  {
   "cell_type": "code",
   "execution_count": 56,
   "id": "d7ce17e9",
   "metadata": {},
   "outputs": [],
   "source": [
    "react_agent = builder.compile()"
   ]
  },
  {
   "cell_type": "code",
   "execution_count": 57,
   "id": "01be4ea9",
   "metadata": {},
   "outputs": [],
   "source": [
    "message=[HumanMessage(content=\"What is 2 times of narendramodi's age?\")]"
   ]
  },
  {
   "cell_type": "code",
   "execution_count": 61,
   "id": "ca23495e",
   "metadata": {},
   "outputs": [],
   "source": [
    "response = react_agent.invoke({\"messages\":message})"
   ]
  },
  {
   "cell_type": "code",
   "execution_count": 62,
   "id": "28ceefbe",
   "metadata": {},
   "outputs": [
    {
     "name": "stdout",
     "output_type": "stream",
     "text": [
      "================================\u001b[1m Human Message \u001b[0m=================================\n",
      "\n",
      "What is 2 times of narendramodi's age?\n",
      "==================================\u001b[1m Ai Message \u001b[0m==================================\n",
      "Tool Calls:\n",
      "  duckduckgo_search (fjsytthq3)\n",
      " Call ID: fjsytthq3\n",
      "  Args:\n",
      "    query: Narendra Modi age\n",
      "=================================\u001b[1m Tool Message \u001b[0m=================================\n",
      "Name: duckduckgo_search\n",
      "\n",
      "Narendra Modi (born September 17, 1950, Vadnagar, India) is an Indian politician and government official who rose to become a senior leader of the Bharatiya Janata Party (BJP). In 2014 he led his party to victory in elections to the Lok Sabha (lower chamber of the Indian parliament), after which he was sworn in as prime minister of India.Prior to that he had served (2001-14) as chief ... List of all Prime Ministers of India till 2025: Narendra Modi is the current and 14th Prime Minister of India who assumed office on 10 June 2024. Jawaharlal Nehru is the first and the longest ... Narendra Modi Biography. Prime Minister Narendra Modi:Narendra Modi, born on September 17, 1950, in Vadnagar, Gujarat, India, is an Indian politician who has served as the Prime Minister of India since May 2014. He belongs to the Bharatiya Janata Party (BJP), a right-wing political party in India. Modi's rise to political prominence is marked ... Learn about the life and achievements of Narendra Modi, the 14th Prime Minister of India, who was born on September 17, 1950, in Gujarat. Find out his full name, mother, father, wife, education, party, and net worth here. Narendra Modi Age, Weight, Height, Wife, Body measurement, Contact Information, Family, Personal Biography, and all other information are available here in this post. Narendra Modi is one of the most popular politicians and he is the Running Prime Minister in India.\n",
      "==================================\u001b[1m Ai Message \u001b[0m==================================\n",
      "\n",
      "To find 2 times Narendra Modi's age:\n",
      "\n",
      "1. **Determine Narendra Modi's age**: As of 2023, Narendra Modi is 73 years old (born on September 17, 1950).\n",
      "2. **Multiply by 2**: 73 years × 2 = 146 years.\n",
      "\n",
      "**Answer**: 2 times Narendra Modi's age is 146.\n"
     ]
    }
   ],
   "source": [
    "for m in response['messages']:\n",
    "    m.pretty_print()"
   ]
  },
  {
   "cell_type": "markdown",
   "id": "f4663edd",
   "metadata": {},
   "source": [
    "### Adding one more Inbuilt Tool"
   ]
  },
  {
   "cell_type": "code",
   "execution_count": 64,
   "id": "0f3cf5dc",
   "metadata": {},
   "outputs": [],
   "source": [
    "@tool\n",
    "def get_stock_price(ticker:str)->str:\n",
    "    \"\"\"\n",
    "    Fetches the previous closing price of a given stock ticker from Yahoo Finance.\n",
    "\n",
    "    Args:\n",
    "        ticker (str): The stock ticker symbol (e.g., 'AAPL', 'TSLA', 'NIFTY.BO').\n",
    "\n",
    "    Returns:\n",
    "        str: A message with the stock's previous closing price.\n",
    "    \"\"\"\n",
    "    try:\n",
    "        stock = yf.Ticker(ticker)\n",
    "        price = stock.info.get('previousClose')\n",
    "        if price is None:\n",
    "            return f\"Could not fetch price for ticker '{ticker}'.\"\n",
    "        return f\"The last closing price of {ticker.upper()} was ${price:.2f}.\"\n",
    "    except Exception as e:\n",
    "        return f\"An error occurred while fetching stock data: {str(e)}\""
   ]
  },
  {
   "cell_type": "code",
   "execution_count": 66,
   "id": "f5f4f79c",
   "metadata": {},
   "outputs": [
    {
     "data": {
      "text/plain": [
       "'The last closing price of AAPL was $196.58.'"
      ]
     },
     "execution_count": 66,
     "metadata": {},
     "output_type": "execute_result"
    }
   ],
   "source": [
    "get_stock_price.invoke(\"AAPL\")"
   ]
  },
  {
   "cell_type": "code",
   "execution_count": 67,
   "id": "f90b302f",
   "metadata": {},
   "outputs": [],
   "source": [
    "tools = [add, multiply, divide, search, get_stock_price]"
   ]
  },
  {
   "cell_type": "code",
   "execution_count": 68,
   "id": "77bc33c5",
   "metadata": {},
   "outputs": [],
   "source": [
    "llm_with_tools=llm.bind_tools(tools)"
   ]
  },
  {
   "cell_type": "code",
   "execution_count": 69,
   "id": "0cb5bb66",
   "metadata": {},
   "outputs": [],
   "source": [
    "response = llm_with_tools.invoke(\"can you give me the latest stock price of adani greens?\")"
   ]
  },
  {
   "cell_type": "code",
   "execution_count": 70,
   "id": "c0c7315d",
   "metadata": {},
   "outputs": [
    {
     "data": {
      "text/plain": [
       "''"
      ]
     },
     "execution_count": 70,
     "metadata": {},
     "output_type": "execute_result"
    }
   ],
   "source": [
    "response.content"
   ]
  },
  {
   "cell_type": "code",
   "execution_count": 71,
   "id": "cedfdefd",
   "metadata": {},
   "outputs": [
    {
     "data": {
      "text/plain": [
       "[{'name': 'get_stock_price',\n",
       "  'args': {'ticker': 'ADANIGREEN.NS'},\n",
       "  'id': 'vz8c8v2yq',\n",
       "  'type': 'tool_call'}]"
      ]
     },
     "execution_count": 71,
     "metadata": {},
     "output_type": "execute_result"
    }
   ],
   "source": [
    "response.tool_calls"
   ]
  },
  {
   "cell_type": "code",
   "execution_count": 73,
   "id": "8b32f8bb",
   "metadata": {},
   "outputs": [],
   "source": [
    "SYSTEM_PROMPT = SystemMessage(\n",
    "    content=\"You are a helpful assistant tasked with using search, the yahoo finance tool and performing arithmetic on a set of inputs.\"\n",
    ")\n",
    "def function_1(state:MessagesState):\n",
    "    \n",
    "    user_question=state[\"messages\"]\n",
    "    \n",
    "    input_question = [SYSTEM_PROMPT]+user_question\n",
    "    \n",
    "    response = llm_with_tools.invoke(input_question)\n",
    "    \n",
    "    return {\n",
    "        \"messages\":[response]\n",
    "    }"
   ]
  },
  {
   "cell_type": "code",
   "execution_count": 74,
   "id": "4c8a5498",
   "metadata": {},
   "outputs": [],
   "source": [
    "workflow = StateGraph(MessagesState)\n",
    "workflow.add_node(\"llm_decision_step\", function_1)\n",
    "workflow.add_node(\"tools\", ToolNode(tools))\n",
    "workflow.add_edge(START, \"llm_decision_step\")\n",
    "workflow.add_conditional_edges(\n",
    "    \"llm_decision_step\",\n",
    "    tools_condition,\n",
    ")\n",
    "workflow.add_edge(\"tools\", \"llm_decision_step\")\n",
    "react_graph2 = workflow.compile()"
   ]
  },
  {
   "cell_type": "code",
   "execution_count": 77,
   "id": "8c55c0b4",
   "metadata": {},
   "outputs": [
    {
     "data": {
      "image/png": "[encoded data removed]",
      "text/plain": [
       "<IPython.core.display.Image object>"
      ]
     },
     "metadata": {},
     "output_type": "display_data"
    }
   ],
   "source": [
    "display(Image(react_graph2.get_graph(xray=True).draw_mermaid_png()))"
   ]
  },
  {
   "cell_type": "code",
   "execution_count": 78,
   "id": "dbba4d31",
   "metadata": {},
   "outputs": [],
   "source": [
    "messages = [HumanMessage(content=\"add 1000 in the current stock price of Apple.\")]\n",
    "messages = react_graph2.invoke({\"messages\": messages})"
   ]
  },
  {
   "cell_type": "code",
   "execution_count": 79,
   "id": "eec9b2c8",
   "metadata": {},
   "outputs": [
    {
     "name": "stdout",
     "output_type": "stream",
     "text": [
      "================================\u001b[1m Human Message \u001b[0m=================================\n",
      "\n",
      "add 1000 in the current stock price of Apple.\n",
      "==================================\u001b[1m Ai Message \u001b[0m==================================\n",
      "Tool Calls:\n",
      "  get_stock_price (bnmb0qkvx)\n",
      " Call ID: bnmb0qkvx\n",
      "  Args:\n",
      "    ticker: AAPL\n",
      "=================================\u001b[1m Tool Message \u001b[0m=================================\n",
      "Name: get_stock_price\n",
      "\n",
      "The last closing price of AAPL was $196.58.\n",
      "==================================\u001b[1m Ai Message \u001b[0m==================================\n",
      "Tool Calls:\n",
      "  add (z9jst35gg)\n",
      " Call ID: z9jst35gg\n",
      "  Args:\n",
      "    a: 1000\n",
      "    b: 196\n",
      "=================================\u001b[1m Tool Message \u001b[0m=================================\n",
      "Name: add\n",
      "\n",
      "1196\n",
      "==================================\u001b[1m Ai Message \u001b[0m==================================\n",
      "\n",
      "The sum of 1000 and the current stock price of Apple (AAPL) is **1196.58**.\n"
     ]
    }
   ],
   "source": [
    "for m in messages['messages']:\n",
    "    m.pretty_print()"
   ]
  },
  {
   "cell_type": "code",
   "execution_count": null,
   "id": "96963cf4",
   "metadata": {},
   "outputs": [],
   "source": []
  }
 ],
 "metadata": {
  "kernelspec": {
   "display_name": "Python 3",
   "language": "python",
   "name": "python3"
  },
  "language_info": {
   "codemirror_mode": {
    "name": "ipython",
    "version": 3
   },
   "file_extension": ".py",
   "mimetype": "text/x-python",
   "name": "python",
   "nbconvert_exporter": "python",
   "pygments_lexer": "ipython3",
   "version": "3.13.0"
  }
 },
 "nbformat": 4,
 "nbformat_minor": 5
}
